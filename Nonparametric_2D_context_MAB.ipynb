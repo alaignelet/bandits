{
  "nbformat": 4,
  "nbformat_minor": 0,
  "metadata": {
    "colab": {
      "name": "Nonparametric 2D context MAB.ipynb",
      "provenance": [],
      "collapsed_sections": []
    },
    "kernelspec": {
      "name": "python3",
      "display_name": "Python 3"
    }
  },
  "cells": [
    {
      "cell_type": "markdown",
      "metadata": {
        "id": "NSFAnYVWcuw5",
        "colab_type": "text"
      },
      "source": [
        "Let a multi-armed bandit with:\n",
        "\n",
        "\n",
        "*   2 arms\n",
        "*   context $x \\in \\mathbb{R}^2$\n",
        "*   predictions using Linear Regression\n",
        "*   reward function $+1$/$+0.5$ depending on the zone + noise\n",
        "\n"
      ]
    },
    {
      "cell_type": "code",
      "metadata": {
        "id": "LCnRs_194Tr6",
        "colab_type": "code",
        "colab": {}
      },
      "source": [
        "import numpy as np\n",
        "import matplotlib.pyplot as plt\n",
        "from tqdm.notebook import tqdm\n",
        "import scipy.stats as stats\n",
        "import pandas as pd\n",
        "from scipy.special import expit\n",
        "from sklearn.linear_model import LogisticRegression, LinearRegression\n",
        "from sklearn.tree import DecisionTreeRegressor\n",
        "from abc import ABC, abstractmethod "
      ],
      "execution_count": 0,
      "outputs": []
    },
    {
      "cell_type": "code",
      "metadata": {
        "id": "FQM_A0eK3Ve1",
        "colab_type": "code",
        "colab": {}
      },
      "source": [
        "class Bandit(ABC):\n",
        "  def __init__(self, epsilon=0.01):\n",
        "    self.history = []\n",
        "    self.k = 2\n",
        "    self.epsilon = epsilon\n",
        "\n",
        "  def generate_context(self):\n",
        "    return np.random.random(2)\n",
        "\n",
        "  def choose_arm(self, x):\n",
        "    prediction = np.zeros(self.k)\n",
        "    df = pd.DataFrame(self.history, columns=['x', 'k', 'reward'])\n",
        "\n",
        "    if (df.groupby(['k']).size().shape[0] == 2) or ():\n",
        "      for i in range(self.k):\n",
        "        data = df[df['k'] == i]\n",
        "        X = data['x']\n",
        "        y = data['reward']\n",
        "\n",
        "        #lr = LinearRegression()\n",
        "        lr = DecisionTreeRegressor()\n",
        "        lr = lr.fit(np.concatenate(X.values).reshape(-1, 2), y)\n",
        "        prediction[i] = lr.predict(x.reshape(-1, 2))\n",
        "\n",
        "      best_bandit = np.argmax(prediction)\n",
        "    \n",
        "    else:\n",
        "      best_bandit = np.random.randint(self.k)\n",
        "\n",
        "    rand_num = np.random.random()\n",
        "    \n",
        "    if self.epsilon > rand_num:\n",
        "        return np.random.randint(self.k)\n",
        "    else:\n",
        "        return best_bandit\n",
        "\n",
        "  def get_reward(self, x, action):\n",
        "    zone = self.boundaries(x)\n",
        "    rk = 0.5 * int(action == zone) + 0.5\n",
        "\n",
        "    noise = 0.2 * stats.norm.rvs()\n",
        "    rk += noise\n",
        "    return rk\n",
        "\n",
        "  def update_values(self, x, action, reward):\n",
        "    update = {}\n",
        "    update['x'] = x\n",
        "    update['k'] = action\n",
        "    update['reward'] = reward\n",
        "    self.history.append(update)\n",
        "\n",
        "  def plot(self):\n",
        "    x = np.random.random((2, 10000))\n",
        "    y = self.boundaries(x)\n",
        "    df = pd.DataFrame([x[0], x[1], y]).T\n",
        "    df.columns = ['x0', 'x1', 'y']\n",
        "\n",
        "    plt.scatter(df[df['y'] == 0]['x0'], df[df['y'] == 0]['x1'], color='blue', label='arm 0')\n",
        "    plt.scatter(df[df['y'] == 1]['x0'], df[df['y'] == 1]['x1'], color='red', label='arm 1')\n",
        "    plt.legend()\n",
        "\n",
        "  @abstractmethod\n",
        "  def boundaries(self, x):\n",
        "    pass"
      ],
      "execution_count": 0,
      "outputs": []
    },
    {
      "cell_type": "code",
      "metadata": {
        "id": "pAnrNnGjgt_R",
        "colab_type": "code",
        "colab": {}
      },
      "source": [
        "class Zones(Bandit):\n",
        "  def boundaries(self, x):\n",
        "    return np.logical_or(x[0] > 0.6, x[1] > 0.8).astype(int)"
      ],
      "execution_count": 0,
      "outputs": []
    },
    {
      "cell_type": "code",
      "metadata": {
        "id": "iQNydYwACmnq",
        "colab_type": "code",
        "colab": {}
      },
      "source": [
        "cmab = Zones()"
      ],
      "execution_count": 0,
      "outputs": []
    },
    {
      "cell_type": "code",
      "metadata": {
        "id": "4ACLuD8AD9ZH",
        "colab_type": "code",
        "colab": {
          "base_uri": "https://localhost:8080/",
          "height": 265
        },
        "outputId": "d0df7c4e-bac1-47d1-f99b-31b875dfd960"
      },
      "source": [
        "cmab.plot()"
      ],
      "execution_count": 390,
      "outputs": [
        {
          "output_type": "display_data",
          "data": {
            "image/png": "[encoded data removed]",
            "text/plain": [
              "<Figure size 432x288 with 1 Axes>"
            ]
          },
          "metadata": {
            "tags": [],
            "needs_background": "light"
          }
        }
      ]
    },
    {
      "cell_type": "code",
      "metadata": {
        "id": "L1jtfF5aD-mZ",
        "colab_type": "code",
        "colab": {}
      },
      "source": [
        "n_iter = 1000\n",
        "\n",
        "for it in range(n_iter):\n",
        "  x = cmab.generate_context()\n",
        "  action = cmab.choose_arm(x)\n",
        "  reward = cmab.get_reward(x, action)\n",
        "  cmab.update_values(x, action, reward)\n",
        "\n",
        "data = pd.DataFrame(cmab.history)"
      ],
      "execution_count": 0,
      "outputs": []
    },
    {
      "cell_type": "code",
      "metadata": {
        "id": "5gQq9tm6VlKw",
        "colab_type": "code",
        "colab": {
          "base_uri": "https://localhost:8080/",
          "height": 265
        },
        "outputId": "31d480fb-95fd-48a8-94a7-d11c9d7cad48"
      },
      "source": [
        "plt.scatter(np.concatenate(data[data['k']==0]['x'].values).reshape(-1, 2)[:,0], np.concatenate(data[data['k']==0]['x'].values).reshape(-1, 2)[:,1], color='blue', label='arm 0')\n",
        "plt.scatter(np.concatenate(data[data['k']==1]['x'].values).reshape(-1, 2)[:,0], np.concatenate(data[data['k']==1]['x'].values).reshape(-1, 2)[:,1], color='red', label='arm 1');\n",
        "plt.legend();"
      ],
      "execution_count": 392,
      "outputs": [
        {
          "output_type": "display_data",
          "data": {
            "image/png": "[encoded data removed]",
            "text/plain": [
              "<Figure size 432x288 with 1 Axes>"
            ]
          },
          "metadata": {
            "tags": [],
            "needs_background": "light"
          }
        }
      ]
    },
    {
      "cell_type": "code",
      "metadata": {
        "id": "UcuJLRvNZM3j",
        "colab_type": "code",
        "colab": {}
      },
      "source": [
        ""
      ],
      "execution_count": 0,
      "outputs": []
    }
  ]
}