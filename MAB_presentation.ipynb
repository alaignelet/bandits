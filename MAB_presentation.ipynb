{
  "nbformat": 4,
  "nbformat_minor": 0,
  "metadata": {
    "colab": {
      "name": "MAB_presentation.ipynb",
      "provenance": [],
      "collapsed_sections": []
    },
    "kernelspec": {
      "name": "python3",
      "display_name": "Python 3"
    },
    "widgets": {
      "application/vnd.jupyter.widget-state+json": {
        "3d3905cbab054d2c9131ddc328c5eec9": {
          "model_module": "@jupyter-widgets/controls",
          "model_name": "HBoxModel",
          "state": {
            "_view_name": "HBoxView",
            "_dom_classes": [],
            "_model_name": "HBoxModel",
            "_view_module": "@jupyter-widgets/controls",
            "_model_module_version": "1.5.0",
            "_view_count": null,
            "_view_module_version": "1.5.0",
            "box_style": "",
            "layout": "IPY_MODEL_35ba117bfc844fe5bc4aba9a783fa73c",
            "_model_module": "@jupyter-widgets/controls",
            "children": [
              "IPY_MODEL_67332f8feb6b48ac89c0659056f2fb5d",
              "IPY_MODEL_7835df17e8b849a6a97f644cf7bb2bc3"
            ]
          }
        },
        "35ba117bfc844fe5bc4aba9a783fa73c": {
          "model_module": "@jupyter-widgets/base",
          "model_name": "LayoutModel",
          "state": {
            "_view_name": "LayoutView",
            "grid_template_rows": null,
            "right": null,
            "justify_content": null,
            "_view_module": "@jupyter-widgets/base",
            "overflow": null,
            "_model_module_version": "1.2.0",
            "_view_count": null,
            "flex_flow": null,
            "width": null,
            "min_width": null,
            "border": null,
            "align_items": null,
            "bottom": null,
            "_model_module": "@jupyter-widgets/base",
            "top": null,
            "grid_column": null,
            "overflow_y": null,
            "overflow_x": null,
            "grid_auto_flow": null,
            "grid_area": null,
            "grid_template_columns": null,
            "flex": null,
            "_model_name": "LayoutModel",
            "justify_items": null,
            "grid_row": null,
            "max_height": null,
            "align_content": null,
            "visibility": null,
            "align_self": null,
            "height": null,
            "min_height": null,
            "padding": null,
            "grid_auto_rows": null,
            "grid_gap": null,
            "max_width": null,
            "order": null,
            "_view_module_version": "1.2.0",
            "grid_template_areas": null,
            "object_position": null,
            "object_fit": null,
            "grid_auto_columns": null,
            "margin": null,
            "display": null,
            "left": null
          }
        },
        "67332f8feb6b48ac89c0659056f2fb5d": {
          "model_module": "@jupyter-widgets/controls",
          "model_name": "FloatProgressModel",
          "state": {
            "_view_name": "ProgressView",
            "style": "IPY_MODEL_55de08a976fc4122a7fb357f37a21132",
            "_dom_classes": [],
            "description": "100%",
            "_model_name": "FloatProgressModel",
            "bar_style": "success",
            "max": 200,
            "_view_module": "@jupyter-widgets/controls",
            "_model_module_version": "1.5.0",
            "value": 200,
            "_view_count": null,
            "_view_module_version": "1.5.0",
            "orientation": "horizontal",
            "min": 0,
            "description_tooltip": null,
            "_model_module": "@jupyter-widgets/controls",
            "layout": "IPY_MODEL_266c68988e554c448eb7dcfe963b1094"
          }
        },
        "7835df17e8b849a6a97f644cf7bb2bc3": {
          "model_module": "@jupyter-widgets/controls",
          "model_name": "HTMLModel",
          "state": {
            "_view_name": "HTMLView",
            "style": "IPY_MODEL_74af9091e7ca4960b0479a3a1430c53c",
            "_dom_classes": [],
            "description": "",
            "_model_name": "HTMLModel",
            "placeholder": "​",
            "_view_module": "@jupyter-widgets/controls",
            "_model_module_version": "1.5.0",
            "value": " 200/200 [01:26&lt;00:00,  2.31it/s]",
            "_view_count": null,
            "_view_module_version": "1.5.0",
            "description_tooltip": null,
            "_model_module": "@jupyter-widgets/controls",
            "layout": "IPY_MODEL_138127556f504e32a266e2c80958a3f9"
          }
        },
        "55de08a976fc4122a7fb357f37a21132": {
          "model_module": "@jupyter-widgets/controls",
          "model_name": "ProgressStyleModel",
          "state": {
            "_view_name": "StyleView",
            "_model_name": "ProgressStyleModel",
            "description_width": "initial",
            "_view_module": "@jupyter-widgets/base",
            "_model_module_version": "1.5.0",
            "_view_count": null,
            "_view_module_version": "1.2.0",
            "bar_color": null,
            "_model_module": "@jupyter-widgets/controls"
          }
        },
        "266c68988e554c448eb7dcfe963b1094": {
          "model_module": "@jupyter-widgets/base",
          "model_name": "LayoutModel",
          "state": {
            "_view_name": "LayoutView",
            "grid_template_rows": null,
            "right": null,
            "justify_content": null,
            "_view_module": "@jupyter-widgets/base",
            "overflow": null,
            "_model_module_version": "1.2.0",
            "_view_count": null,
            "flex_flow": null,
            "width": null,
            "min_width": null,
            "border": null,
            "align_items": null,
            "bottom": null,
            "_model_module": "@jupyter-widgets/base",
            "top": null,
            "grid_column": null,
            "overflow_y": null,
            "overflow_x": null,
            "grid_auto_flow": null,
            "grid_area": null,
            "grid_template_columns": null,
            "flex": null,
            "_model_name": "LayoutModel",
            "justify_items": null,
            "grid_row": null,
            "max_height": null,
            "align_content": null,
            "visibility": null,
            "align_self": null,
            "height": null,
            "min_height": null,
            "padding": null,
            "grid_auto_rows": null,
            "grid_gap": null,
            "max_width": null,
            "order": null,
            "_view_module_version": "1.2.0",
            "grid_template_areas": null,
            "object_position": null,
            "object_fit": null,
            "grid_auto_columns": null,
            "margin": null,
            "display": null,
            "left": null
          }
        },
        "74af9091e7ca4960b0479a3a1430c53c": {
          "model_module": "@jupyter-widgets/controls",
          "model_name": "DescriptionStyleModel",
          "state": {
            "_view_name": "StyleView",
            "_model_name": "DescriptionStyleModel",
            "description_width": "",
            "_view_module": "@jupyter-widgets/base",
            "_model_module_version": "1.5.0",
            "_view_count": null,
            "_view_module_version": "1.2.0",
            "_model_module": "@jupyter-widgets/controls"
          }
        },
        "138127556f504e32a266e2c80958a3f9": {
          "model_module": "@jupyter-widgets/base",
          "model_name": "LayoutModel",
          "state": {
            "_view_name": "LayoutView",
            "grid_template_rows": null,
            "right": null,
            "justify_content": null,
            "_view_module": "@jupyter-widgets/base",
            "overflow": null,
            "_model_module_version": "1.2.0",
            "_view_count": null,
            "flex_flow": null,
            "width": null,
            "min_width": null,
            "border": null,
            "align_items": null,
            "bottom": null,
            "_model_module": "@jupyter-widgets/base",
            "top": null,
            "grid_column": null,
            "overflow_y": null,
            "overflow_x": null,
            "grid_auto_flow": null,
            "grid_area": null,
            "grid_template_columns": null,
            "flex": null,
            "_model_name": "LayoutModel",
            "justify_items": null,
            "grid_row": null,
            "max_height": null,
            "align_content": null,
            "visibility": null,
            "align_self": null,
            "height": null,
            "min_height": null,
            "padding": null,
            "grid_auto_rows": null,
            "grid_gap": null,
            "max_width": null,
            "order": null,
            "_view_module_version": "1.2.0",
            "grid_template_areas": null,
            "object_position": null,
            "object_fit": null,
            "grid_auto_columns": null,
            "margin": null,
            "display": null,
            "left": null
          }
        },
        "0c48bbc9cbd4482b9ddcfad45eca0526": {
          "model_module": "@jupyter-widgets/controls",
          "model_name": "HBoxModel",
          "state": {
            "_view_name": "HBoxView",
            "_dom_classes": [],
            "_model_name": "HBoxModel",
            "_view_module": "@jupyter-widgets/controls",
            "_model_module_version": "1.5.0",
            "_view_count": null,
            "_view_module_version": "1.5.0",
            "box_style": "",
            "layout": "IPY_MODEL_cc235c34f0804d9ba4135edcf390378d",
            "_model_module": "@jupyter-widgets/controls",
            "children": [
              "IPY_MODEL_8b6bce4b04f547ca94c17dd4413bbd7a",
              "IPY_MODEL_8cbbe8cd02704b008eff5e0ee3724d94"
            ]
          }
        },
        "cc235c34f0804d9ba4135edcf390378d": {
          "model_module": "@jupyter-widgets/base",
          "model_name": "LayoutModel",
          "state": {
            "_view_name": "LayoutView",
            "grid_template_rows": null,
            "right": null,
            "justify_content": null,
            "_view_module": "@jupyter-widgets/base",
            "overflow": null,
            "_model_module_version": "1.2.0",
            "_view_count": null,
            "flex_flow": null,
            "width": null,
            "min_width": null,
            "border": null,
            "align_items": null,
            "bottom": null,
            "_model_module": "@jupyter-widgets/base",
            "top": null,
            "grid_column": null,
            "overflow_y": null,
            "overflow_x": null,
            "grid_auto_flow": null,
            "grid_area": null,
            "grid_template_columns": null,
            "flex": null,
            "_model_name": "LayoutModel",
            "justify_items": null,
            "grid_row": null,
            "max_height": null,
            "align_content": null,
            "visibility": null,
            "align_self": null,
            "height": null,
            "min_height": null,
            "padding": null,
            "grid_auto_rows": null,
            "grid_gap": null,
            "max_width": null,
            "order": null,
            "_view_module_version": "1.2.0",
            "grid_template_areas": null,
            "object_position": null,
            "object_fit": null,
            "grid_auto_columns": null,
            "margin": null,
            "display": null,
            "left": null
          }
        },
        "8b6bce4b04f547ca94c17dd4413bbd7a": {
          "model_module": "@jupyter-widgets/controls",
          "model_name": "FloatProgressModel",
          "state": {
            "_view_name": "ProgressView",
            "style": "IPY_MODEL_5ce85f9175d74d348f43730b95fd0605",
            "_dom_classes": [],
            "description": "100%",
            "_model_name": "FloatProgressModel",
            "bar_style": "success",
            "max": 200,
            "_view_module": "@jupyter-widgets/controls",
            "_model_module_version": "1.5.0",
            "value": 200,
            "_view_count": null,
            "_view_module_version": "1.5.0",
            "orientation": "horizontal",
            "min": 0,
            "description_tooltip": null,
            "_model_module": "@jupyter-widgets/controls",
            "layout": "IPY_MODEL_6bb0e20430484129874f296d62ddf817"
          }
        },
        "8cbbe8cd02704b008eff5e0ee3724d94": {
          "model_module": "@jupyter-widgets/controls",
          "model_name": "HTMLModel",
          "state": {
            "_view_name": "HTMLView",
            "style": "IPY_MODEL_90103a52550c42b4afaea2d4133cf9e1",
            "_dom_classes": [],
            "description": "",
            "_model_name": "HTMLModel",
            "placeholder": "​",
            "_view_module": "@jupyter-widgets/controls",
            "_model_module_version": "1.5.0",
            "value": " 200/200 [01:06&lt;00:00,  3.01it/s]",
            "_view_count": null,
            "_view_module_version": "1.5.0",
            "description_tooltip": null,
            "_model_module": "@jupyter-widgets/controls",
            "layout": "IPY_MODEL_d58203bdf5db4347a516f914af8e3b3d"
          }
        },
        "5ce85f9175d74d348f43730b95fd0605": {
          "model_module": "@jupyter-widgets/controls",
          "model_name": "ProgressStyleModel",
          "state": {
            "_view_name": "StyleView",
            "_model_name": "ProgressStyleModel",
            "description_width": "initial",
            "_view_module": "@jupyter-widgets/base",
            "_model_module_version": "1.5.0",
            "_view_count": null,
            "_view_module_version": "1.2.0",
            "bar_color": null,
            "_model_module": "@jupyter-widgets/controls"
          }
        },
        "6bb0e20430484129874f296d62ddf817": {
          "model_module": "@jupyter-widgets/base",
          "model_name": "LayoutModel",
          "state": {
            "_view_name": "LayoutView",
            "grid_template_rows": null,
            "right": null,
            "justify_content": null,
            "_view_module": "@jupyter-widgets/base",
            "overflow": null,
            "_model_module_version": "1.2.0",
            "_view_count": null,
            "flex_flow": null,
            "width": null,
            "min_width": null,
            "border": null,
            "align_items": null,
            "bottom": null,
            "_model_module": "@jupyter-widgets/base",
            "top": null,
            "grid_column": null,
            "overflow_y": null,
            "overflow_x": null,
            "grid_auto_flow": null,
            "grid_area": null,
            "grid_template_columns": null,
            "flex": null,
            "_model_name": "LayoutModel",
            "justify_items": null,
            "grid_row": null,
            "max_height": null,
            "align_content": null,
            "visibility": null,
            "align_self": null,
            "height": null,
            "min_height": null,
            "padding": null,
            "grid_auto_rows": null,
            "grid_gap": null,
            "max_width": null,
            "order": null,
            "_view_module_version": "1.2.0",
            "grid_template_areas": null,
            "object_position": null,
            "object_fit": null,
            "grid_auto_columns": null,
            "margin": null,
            "display": null,
            "left": null
          }
        },
        "90103a52550c42b4afaea2d4133cf9e1": {
          "model_module": "@jupyter-widgets/controls",
          "model_name": "DescriptionStyleModel",
          "state": {
            "_view_name": "StyleView",
            "_model_name": "DescriptionStyleModel",
            "description_width": "",
            "_view_module": "@jupyter-widgets/base",
            "_model_module_version": "1.5.0",
            "_view_count": null,
            "_view_module_version": "1.2.0",
            "_model_module": "@jupyter-widgets/controls"
          }
        },
        "d58203bdf5db4347a516f914af8e3b3d": {
          "model_module": "@jupyter-widgets/base",
          "model_name": "LayoutModel",
          "state": {
            "_view_name": "LayoutView",
            "grid_template_rows": null,
            "right": null,
            "justify_content": null,
            "_view_module": "@jupyter-widgets/base",
            "overflow": null,
            "_model_module_version": "1.2.0",
            "_view_count": null,
            "flex_flow": null,
            "width": null,
            "min_width": null,
            "border": null,
            "align_items": null,
            "bottom": null,
            "_model_module": "@jupyter-widgets/base",
            "top": null,
            "grid_column": null,
            "overflow_y": null,
            "overflow_x": null,
            "grid_auto_flow": null,
            "grid_area": null,
            "grid_template_columns": null,
            "flex": null,
            "_model_name": "LayoutModel",
            "justify_items": null,
            "grid_row": null,
            "max_height": null,
            "align_content": null,
            "visibility": null,
            "align_self": null,
            "height": null,
            "min_height": null,
            "padding": null,
            "grid_auto_rows": null,
            "grid_gap": null,
            "max_width": null,
            "order": null,
            "_view_module_version": "1.2.0",
            "grid_template_areas": null,
            "object_position": null,
            "object_fit": null,
            "grid_auto_columns": null,
            "margin": null,
            "display": null,
            "left": null
          }
        }
      }
    }
  },
  "cells": [
    {
      "cell_type": "markdown",
      "metadata": {
        "id": "jMn9obL6bHxV",
        "colab_type": "text"
      },
      "source": [
        "Author: Alexis Laignelet \\\\\n",
        "Date: 8th June 2020"
      ]
    },
    {
      "cell_type": "code",
      "metadata": {
        "id": "8qjNn_OQKJo3",
        "colab_type": "code",
        "colab": {}
      },
      "source": [
        "import numpy as np\n",
        "import matplotlib.pyplot as plt\n",
        "from tqdm.notebook import tqdm\n",
        "import scipy.stats as stats\n",
        "import pandas as pd\n",
        "from abc import ABC, abstractmethod \n",
        "from sklearn.tree import DecisionTreeRegressor"
      ],
      "execution_count": 0,
      "outputs": []
    },
    {
      "cell_type": "markdown",
      "metadata": {
        "id": "PjujpwGf6kdm",
        "colab_type": "text"
      },
      "source": [
        "# Bandits"
      ]
    },
    {
      "cell_type": "code",
      "metadata": {
        "id": "svz1FL5ZuS6S",
        "colab_type": "code",
        "colab": {}
      },
      "source": [
        "class Bandit:\n",
        "  def __init__(self, k, mean_distribution, reward_distribution, policy):\n",
        "    self.k = k\n",
        "    self.arm_means = mean_distribution().rvs(k)\n",
        "    self.arm_reward_distributions = [reward_distribution(mean) for mean in self.arm_means]\n",
        "    self.arm_trial_counts = np.zeros(k)\n",
        "    self.policy = policy\n",
        "\n",
        "  def get_reward(self, chosen_arm):\n",
        "    reward = self.arm_reward_distributions[chosen_arm].rvs()\n",
        "    return reward\n",
        "\n",
        "  def run_experiment(self):\n",
        "    chosen_arm = self.policy.choose_arm()\n",
        "    reward = self.get_reward(chosen_arm)\n",
        "    self.policy.update_policy(chosen_arm, reward)\n",
        "    return reward"
      ],
      "execution_count": 0,
      "outputs": []
    },
    {
      "cell_type": "code",
      "metadata": {
        "id": "BkY_B-mK6jET",
        "colab_type": "code",
        "colab": {}
      },
      "source": [
        "class ContextualBandit:\n",
        "  def __init__(self, mean_distribution, reward_distribution, policy, context):\n",
        "    self.context = context\n",
        "    self.time = 0\n",
        "    self.reward_distribution = reward_distribution\n",
        "    self.arm_means = mean_distribution(self.context(self.time))\n",
        "    self.arm_reward_distributions = [reward_distribution(mean) for mean in self.arm_means]\n",
        "    self.policy = policy\n",
        "\n",
        "  def get_reward(self, chosen_arm):\n",
        "    reward = self.arm_reward_distributions[chosen_arm].rvs()\n",
        "    return reward\n",
        "\n",
        "  def update_reward_distribution(self, context):\n",
        "    self.arm_means = mean_distribution(self.context(self.time))\n",
        "    self.arm_reward_distributions = [self.reward_distribution(mean) for mean in self.arm_means]\n",
        "\n",
        "  def update_time(self):\n",
        "    self.time += 1\n",
        "\n",
        "  def run_experiment(self):\n",
        "    context = self.context(self.time)\n",
        "    self.update_reward_distribution(context)\n",
        "    self.policy.make_predictions(context)\n",
        "    chosen_arm = self.policy.choose_arm()\n",
        "    reward = self.get_reward(chosen_arm)\n",
        "    self.policy.update_dataset(chosen_arm, self.time, context, reward)\n",
        "    self.policy.retrain_model(chosen_arm)\n",
        "    self.update_time()"
      ],
      "execution_count": 0,
      "outputs": []
    },
    {
      "cell_type": "markdown",
      "metadata": {
        "id": "tw0ZEWzX6p7O",
        "colab_type": "text"
      },
      "source": [
        "# Policies"
      ]
    },
    {
      "cell_type": "code",
      "metadata": {
        "id": "gHJWz1sjmY6_",
        "colab_type": "code",
        "colab": {}
      },
      "source": [
        "class Policy(ABC):\n",
        "  @abstractmethod\n",
        "  def choose_arm(self):\n",
        "    pass\n",
        "\n",
        "  @abstractmethod\n",
        "  def update_policy(self, chosen_arm, reward):\n",
        "    pass"
      ],
      "execution_count": 0,
      "outputs": []
    },
    {
      "cell_type": "code",
      "metadata": {
        "id": "hEE6PUSJqPBJ",
        "colab_type": "code",
        "colab": {}
      },
      "source": [
        "class GreedyPolicy(Policy):\n",
        "  def __init__(self, epsilon, k):\n",
        "    self.k = k\n",
        "    self.epsilon = epsilon\n",
        "    self.arm_estimated_means = np.zeros(self.k)\n",
        "    self.arm_trial_counts = np.zeros(self.k)\n",
        "\n",
        "  def choose_arm(self): \n",
        "    if self.epsilon > np.random.uniform(0, 1): \n",
        "        chosen_arm = np.random.randint(self.k)\n",
        "    else:\n",
        "        chosen_arm = np.argmax(self.arm_estimated_means)\n",
        "    return chosen_arm   \n",
        "\n",
        "  def update_policy(self, chosen_arm, reward):\n",
        "    self.arm_trial_counts[chosen_arm] += 1 \n",
        "    alpha = 1./self.arm_trial_counts[chosen_arm]\n",
        "    self.arm_estimated_means[chosen_arm] += alpha * (reward - self.arm_estimated_means[chosen_arm])"
      ],
      "execution_count": 0,
      "outputs": []
    },
    {
      "cell_type": "code",
      "metadata": {
        "id": "4AuQJVLY61TO",
        "colab_type": "code",
        "colab": {}
      },
      "source": [
        "class UBCPolicy(Policy):\n",
        "  def __init__(self, k):\n",
        "    self.k = k\n",
        "    self.arm_radiuses = np.zeros(k)\n",
        "    self.arm_estimated_means = np.zeros(self.k)\n",
        "    self.arm_trial_counts = np.zeros(self.k)\n",
        "\n",
        "  def choose_arm(self):\n",
        "    return np.argmax(self.arm_estimated_means + self.arm_radiuses)\n",
        "\n",
        "  def update_policy(self, chosen_arm, reward):\n",
        "    self.arm_trial_counts[chosen_arm] += 1 \n",
        "    self.arm_radiuses = np.sqrt(2 * np.log(1 + self.arm_trial_counts.sum()) / (1 + self.arm_trial_counts))\n",
        "    alpha = 1./self.arm_trial_counts[chosen_arm]\n",
        "    self.arm_estimated_means[chosen_arm] += alpha * (reward - self.arm_estimated_means[chosen_arm])"
      ],
      "execution_count": 0,
      "outputs": []
    },
    {
      "cell_type": "code",
      "metadata": {
        "id": "FZ2ngsHk8mzt",
        "colab_type": "code",
        "colab": {}
      },
      "source": [
        "class ThompsonPolicy(Policy):\n",
        "  def __init__(self, k):\n",
        "    self.k = k\n",
        "    self.arm_trial_counts = np.zeros(self.k)\n",
        "    self.arm_success_counts = np.zeros(self.k) \n",
        "    self.arm_prior_distributions = [stats.beta(a=1, b=1) for i in range(self.k)]\n",
        "  \n",
        "  def choose_arm(self):\n",
        "    theta_samples = np.array([distribution.rvs(1).item() for distribution in self.arm_prior_distributions])\n",
        "    return np.argmax(theta_samples)\n",
        "\n",
        "  def update_policy(self, chosen_arm, reward):\n",
        "    self.arm_trial_counts[chosen_arm] += 1\n",
        "    self.arm_success_counts[chosen_arm] += reward\n",
        "    posterior_distributions = [stats.beta(a=1+success_count, b=1+trial_count-success_count)\n",
        "                               for trial_count, success_count in zip(self.arm_trial_counts, self.arm_success_counts)]\n",
        "    self.arm_prior_distributions = posterior_distributions"
      ],
      "execution_count": 0,
      "outputs": []
    },
    {
      "cell_type": "code",
      "metadata": {
        "id": "REvnLFbr7P-X",
        "colab_type": "code",
        "colab": {}
      },
      "source": [
        "class ContextualGreedyPolicy:\n",
        "  def __init__(self, epsilon, k=2):\n",
        "    self.k = k\n",
        "    self.epsilon = epsilon\n",
        "    self.arm_estimated_means = np.zeros(self.k)\n",
        "    self.arm_trial_counts = np.zeros(self.k)\n",
        "    self.learning_algorithm = self.initialise_models() \n",
        "    self.trained_models = [None] * 2\n",
        "    self.datasets = [pd.DataFrame(columns=['time', 'context', 'reward'])] * 2\n",
        "\n",
        "  def initialise_models(self):\n",
        "    list_of_models = []\n",
        "    for i in range(self.k):\n",
        "      model = DecisionTreeRegressor()\n",
        "      list_of_models.append(model)\n",
        "    return list_of_models\n",
        "\n",
        "  def choose_arm(self): \n",
        "    if self.epsilon > np.random.uniform(0, 1): \n",
        "        chosen_arm = np.random.randint(self.k)\n",
        "    else:\n",
        "        chosen_arm = np.argmax(self.arm_estimated_means)\n",
        "    return chosen_arm\n",
        "\n",
        "  def make_predictions(self, context):\n",
        "    for i in range(self.k):\n",
        "      if self.trained_models[i] != None:\n",
        "        self.arm_estimated_means[i] = self.trained_models[i].predict(context.reshape(-1, 1))\n",
        "  \n",
        "  def update_dataset(self, chosen_arm, time, context, reward):\n",
        "    row = [time, context, reward]\n",
        "    df = self.datasets[chosen_arm]\n",
        "    new_data = pd.DataFrame([row], columns=['time','context','reward'])\n",
        "    self.datasets[chosen_arm] = pd.concat([df,new_data])\n",
        "\n",
        "  def retrain_model(self, chosen_arm):\n",
        "    X = self.datasets[chosen_arm]['context']\n",
        "    y = self.datasets[chosen_arm]['reward']\n",
        "    self.trained_models[chosen_arm] = self.learning_algorithm[chosen_arm].fit(X.values.reshape(-1, 1), y)"
      ],
      "execution_count": 0,
      "outputs": []
    },
    {
      "cell_type": "markdown",
      "metadata": {
        "id": "9gBBUqONCfLe",
        "colab_type": "text"
      },
      "source": [
        "# Example 1 - Stochastic bandits\n",
        "\n",
        "Let k arms with rewards following a Gaussian distribution $\\mathcal{N}(\\mu_i, 1)$. For simplicity the means $\\mu_i$ are generated from a uniform distribution $\\mathcal{U}[0, 1]$.\n",
        "\n",
        "Two policies are implemented:\n",
        "\n",
        "\n",
        "*   $\\epsilon$-greedy,\n",
        "*   Upper Confidence Bound.\n",
        "\n",
        "\n",
        "The estimated mean is computed this way:\n",
        "\\begin{align*}\n",
        "  \\mathbb{E}[\\mu_a] \\leftarrow  \\mathbb{E}[\\mu_a] + \\alpha \\left(R_{a, t} - \\mathbb{E}[\\mu_a] \\right)\n",
        "\\end{align*}\n",
        "\n",
        "Usually $\\alpha = \\frac{1}{T_a}$ but you can 'forget' faster by taking higher values for $\\alpha$. Eg $\\alpha = 0.1$. \n"
      ]
    },
    {
      "cell_type": "code",
      "metadata": {
        "id": "TkOuSyrKzfUX",
        "colab_type": "code",
        "colab": {}
      },
      "source": [
        "def multi_experiments(bandit, experiences):\n",
        "  max_mean = max(bandit.arm_means)\n",
        "  rewards = np.zeros(experiences) \n",
        "  regrets = np.zeros(experiences+1)\n",
        "  \n",
        "  for it in range(experiences):\n",
        "    reward = bandit.run_experiment()\n",
        "    rewards[it] = reward\n",
        "    regrets[it+1] = regrets[it] + max_mean - reward\n",
        "\n",
        "  return rewards, regrets[1:]"
      ],
      "execution_count": 0,
      "outputs": []
    },
    {
      "cell_type": "code",
      "metadata": {
        "id": "9C293ZADzJmB",
        "colab_type": "code",
        "colab": {}
      },
      "source": [
        "def average_results(k, mean_distribution, reward_distribution, experiences, n_average, epsilon=None):\n",
        "  average_rewards = np.zeros(experiences)\n",
        "  average_regrets = np.zeros(experiences)\n",
        "\n",
        "  for i in tqdm(range(n_average)):\n",
        "    if epsilon != None:\n",
        "      policy = GreedyPolicy(epsilon=epsilon, k=k)\n",
        "    else:\n",
        "      policy = UBCPolicy(k)\n",
        "    bandit = Bandit(k=k, mean_distribution=mean_distribution, reward_distribution=reward_distribution, policy=policy)\n",
        "    new_rewards, new_regrets = multi_experiments(bandit, experiences)\n",
        "    average_rewards += new_rewards\n",
        "    average_regrets += new_regrets \n",
        "\n",
        "  average_rewards /= n_average \n",
        "  average_regrets /= n_average\n",
        "  return average_rewards, average_regrets"
      ],
      "execution_count": 0,
      "outputs": []
    },
    {
      "cell_type": "code",
      "metadata": {
        "id": "AY9nXLD72FwL",
        "colab_type": "code",
        "colab": {}
      },
      "source": [
        "def normal_reward(mean):\n",
        "  return stats.norm(loc=mean, scale=1.)\n",
        "\n",
        "def normal_mean():\n",
        "  return stats.norm(loc=0, scale=1.)"
      ],
      "execution_count": 0,
      "outputs": []
    },
    {
      "cell_type": "code",
      "metadata": {
        "id": "Dnkps00Uy_yX",
        "colab_type": "code",
        "colab": {}
      },
      "source": [
        "k = 10\n",
        "epsilon = 0.01\n",
        "mean_distribution = normal_mean\n",
        "reward_distribution = normal_reward\n",
        "experiences = 1000\n",
        "n_average = 200"
      ],
      "execution_count": 0,
      "outputs": []
    },
    {
      "cell_type": "code",
      "metadata": {
        "id": "fg94xtKe14oy",
        "colab_type": "code",
        "outputId": "07130f9f-e70e-4d0b-d2c0-47f82999ae69",
        "colab": {
          "base_uri": "https://localhost:8080/",
          "height": 117,
          "referenced_widgets": [
            "3d3905cbab054d2c9131ddc328c5eec9",
            "35ba117bfc844fe5bc4aba9a783fa73c",
            "67332f8feb6b48ac89c0659056f2fb5d",
            "7835df17e8b849a6a97f644cf7bb2bc3",
            "55de08a976fc4122a7fb357f37a21132",
            "266c68988e554c448eb7dcfe963b1094",
            "74af9091e7ca4960b0479a3a1430c53c",
            "138127556f504e32a266e2c80958a3f9",
            "0c48bbc9cbd4482b9ddcfad45eca0526",
            "cc235c34f0804d9ba4135edcf390378d",
            "8b6bce4b04f547ca94c17dd4413bbd7a",
            "8cbbe8cd02704b008eff5e0ee3724d94",
            "5ce85f9175d74d348f43730b95fd0605",
            "6bb0e20430484129874f296d62ddf817",
            "90103a52550c42b4afaea2d4133cf9e1",
            "d58203bdf5db4347a516f914af8e3b3d"
          ]
        }
      },
      "source": [
        "average_rewards_greedy, average_regrets_greedy = average_results(k, mean_distribution, reward_distribution, experiences, n_average, epsilon=epsilon)\n",
        "average_rewards_ucb, average_regrets_ucb = average_results(k, mean_distribution, reward_distribution, experiences, n_average)"
      ],
      "execution_count": 13,
      "outputs": [
        {
          "output_type": "display_data",
          "data": {
            "application/vnd.jupyter.widget-view+json": {
              "model_id": "3d3905cbab054d2c9131ddc328c5eec9",
              "version_minor": 0,
              "version_major": 2
            },
            "text/plain": [
              "HBox(children=(FloatProgress(value=0.0, max=200.0), HTML(value='')))"
            ]
          },
          "metadata": {
            "tags": []
          }
        },
        {
          "output_type": "stream",
          "text": [
            "\n"
          ],
          "name": "stdout"
        },
        {
          "output_type": "display_data",
          "data": {
            "application/vnd.jupyter.widget-view+json": {
              "model_id": "0c48bbc9cbd4482b9ddcfad45eca0526",
              "version_minor": 0,
              "version_major": 2
            },
            "text/plain": [
              "HBox(children=(FloatProgress(value=0.0, max=200.0), HTML(value='')))"
            ]
          },
          "metadata": {
            "tags": []
          }
        },
        {
          "output_type": "stream",
          "text": [
            "\n"
          ],
          "name": "stdout"
        }
      ]
    },
    {
      "cell_type": "code",
      "metadata": {
        "id": "rdmep4YS21GE",
        "colab_type": "code",
        "outputId": "bb3408cf-52d5-47ff-b05d-16943e4e2c8f",
        "colab": {
          "base_uri": "https://localhost:8080/",
          "height": 279
        }
      },
      "source": [
        "plt.plot(average_rewards_greedy, label='$\\epsilon$-greedy')\n",
        "plt.plot(average_rewards_ucb, label='UCB')\n",
        "plt.xlabel('Iteration')\n",
        "plt.ylabel('Reward')\n",
        "plt.legend();"
      ],
      "execution_count": 14,
      "outputs": [
        {
          "output_type": "display_data",
          "data": {
            "image/png": "[encoded data removed]",
            "text/plain": [
              "<Figure size 432x288 with 1 Axes>"
            ]
          },
          "metadata": {
            "tags": [],
            "needs_background": "light"
          }
        }
      ]
    },
    {
      "cell_type": "code",
      "metadata": {
        "id": "Zpx4XSHP27hk",
        "colab_type": "code",
        "outputId": "9d4beadc-5b6b-4de9-c8f3-4c454c39d880",
        "colab": {
          "base_uri": "https://localhost:8080/",
          "height": 279
        }
      },
      "source": [
        "plt.plot(average_regrets_greedy, label='$\\epsilon$-greedy')\n",
        "plt.plot(average_regrets_ucb, label='UCB')\n",
        "plt.xlabel('Iteration')\n",
        "plt.ylabel('Regret')\n",
        "plt.legend();"
      ],
      "execution_count": 15,
      "outputs": [
        {
          "output_type": "display_data",
          "data": {
            "image/png": "[encoded data removed]",
            "text/plain": [
              "<Figure size 432x288 with 1 Axes>"
            ]
          },
          "metadata": {
            "tags": [],
            "needs_background": "light"
          }
        }
      ]
    },
    {
      "cell_type": "markdown",
      "metadata": {
        "id": "uD9dDL5FOJ6C",
        "colab_type": "text"
      },
      "source": [
        "# Example 2 - Bernoulli bandits\n",
        "\n",
        "In this setup, the likelihood $p(x | \\theta)$ follows a Bernoulli. A natural choice for the prior is the Beta distribution since it is a conjugate prior with the Bernoulli distribution. In this context, the posterior is also a Beta distribution that evolves according to: if $x$ is a win, the posterior becomes $Beta(\\alpha +1, \\beta)$, and if it is a fail, it becomes $Beta(\\alpha, \\beta +1)$.\n"
      ]
    },
    {
      "cell_type": "code",
      "metadata": {
        "id": "C1FepjEN97Ph",
        "colab_type": "code",
        "colab": {}
      },
      "source": [
        "def plot_thompson_priors(policy, ax, experience):\n",
        "  x = np.linspace(0.001, 0.999, 100)\n",
        "  for arm_prior_distribution in policy.arm_prior_distributions:\n",
        "      y = arm_prior_distribution.pdf(x)\n",
        "      ax.plot(x, y)\n",
        "      ax.fill_between(x, y, 0, alpha=0.2)\n",
        "  ax.set_xlabel('x')\n",
        "  ax.set_ylabel('Prior')\n",
        "  ax.set_title('t = ' + str(experience))"
      ],
      "execution_count": 0,
      "outputs": []
    },
    {
      "cell_type": "code",
      "metadata": {
        "id": "1-1CCttH2LTY",
        "colab_type": "code",
        "colab": {}
      },
      "source": [
        "def bernoulli_reward(mean):\n",
        "  return stats.bernoulli(mean)\n",
        "\n",
        "def uniform_mean():\n",
        "  return stats.uniform(loc=0, scale=1.)"
      ],
      "execution_count": 0,
      "outputs": []
    },
    {
      "cell_type": "code",
      "metadata": {
        "id": "gEWR5l5xHemo",
        "colab_type": "code",
        "colab": {}
      },
      "source": [
        "k = 3\n",
        "mean_distribution = uniform_mean\n",
        "reward_distribution = bernoulli_reward\n",
        "experiences = 50\n",
        "indexes = [int(ratio * (experiences-1)) for ratio in [0.25, 0.5, 0.75, 1.]]"
      ],
      "execution_count": 0,
      "outputs": []
    },
    {
      "cell_type": "code",
      "metadata": {
        "id": "xjND8mc6Dr2W",
        "colab_type": "code",
        "colab": {}
      },
      "source": [
        "policy = ThompsonPolicy(k)\n",
        "bandit = Bandit(k=k, mean_distribution=mean_distribution, reward_distribution=reward_distribution, policy=policy)"
      ],
      "execution_count": 0,
      "outputs": []
    },
    {
      "cell_type": "code",
      "metadata": {
        "id": "08F56qmf97d2",
        "colab_type": "code",
        "outputId": "26d6af1d-0588-46a0-8efd-c6d9fd431dbc",
        "colab": {
          "base_uri": "https://localhost:8080/",
          "height": 533
        }
      },
      "source": [
        "fig, axs = plt.subplots(2, 2, figsize=(12,8))\n",
        "axs = axs.flatten()\n",
        "fig.tight_layout(pad=5.0)\n",
        "for experience in range(experiences):\n",
        "  bandit.run_experiment()\n",
        "  if experience in indexes:\n",
        "    policy = bandit.policy\n",
        "    plot_thompson_priors(policy=policy, ax=axs[indexes.index(experience)], experience=experience)"
      ],
      "execution_count": 33,
      "outputs": [
        {
          "output_type": "display_data",
          "data": {
            "image/png": "[encoded data removed]",
            "text/plain": [
              "<Figure size 864x576 with 4 Axes>"
            ]
          },
          "metadata": {
            "tags": [],
            "needs_background": "light"
          }
        }
      ]
    },
    {
      "cell_type": "markdown",
      "metadata": {
        "id": "1AYEK1ErPGkw",
        "colab_type": "text"
      },
      "source": [
        "# Example 3 - Contextual bandits\n",
        "\n",
        "In this setup, the context influences the probabilities of the reward of each arm. We first define a mean per arm depending on the context, and then the reward which is a noisy version on the mean.\n",
        "\n",
        "For convenience, the context is model by a unique variable $x$ which oscillate throught time, and we use decision tree as model to make predictions on the rewards."
      ]
    },
    {
      "cell_type": "code",
      "metadata": {
        "id": "j1d97ifBnIhg",
        "colab_type": "code",
        "colab": {}
      },
      "source": [
        "def mean_distribution(context):\n",
        "  return [1 if context >= 0 else 0, 1 if context < 0 else 0]\n",
        "\n",
        "def normal_reward(mean):\n",
        "  return stats.norm(loc=mean, scale=0.1)\n",
        "\n",
        "def sine_context(time):\n",
        "  return np.sin(0.1 * time)"
      ],
      "execution_count": 0,
      "outputs": []
    },
    {
      "cell_type": "code",
      "metadata": {
        "id": "mrgK5Zc-_D5L",
        "colab_type": "code",
        "colab": {
          "base_uri": "https://localhost:8080/",
          "height": 279
        },
        "outputId": "e90b1f5c-b14a-482b-ff22-819032cb70ef"
      },
      "source": [
        "x = np.linspace(-1, 1, 100)\n",
        "y = np.array([mean_distribution(values) for values in x])\n",
        "plt.plot(x, y[:,0], label='arm 0')\n",
        "plt.plot(x, y[:,1], label='arm 1')\n",
        "plt.xlabel('Context')\n",
        "plt.ylabel('Mean')\n",
        "plt.legend();"
      ],
      "execution_count": 22,
      "outputs": [
        {
          "output_type": "display_data",
          "data": {
            "image/png": "[encoded data removed]",
            "text/plain": [
              "<Figure size 432x288 with 1 Axes>"
            ]
          },
          "metadata": {
            "tags": [],
            "needs_background": "light"
          }
        }
      ]
    },
    {
      "cell_type": "code",
      "metadata": {
        "id": "lr6XqrpR4Jgu",
        "colab_type": "code",
        "colab": {}
      },
      "source": [
        "epsilon = 0.1\n",
        "mean_distribution = mean_distribution\n",
        "reward_distribution = normal_reward\n",
        "context = sine_context"
      ],
      "execution_count": 0,
      "outputs": []
    },
    {
      "cell_type": "code",
      "metadata": {
        "id": "nKFbl3OZMlMX",
        "colab_type": "code",
        "colab": {}
      },
      "source": [
        "policy = ContextualGreedyPolicy(epsilon=epsilon)\n",
        "cbandit = ContextualBandit(mean_distribution=mean_distribution, reward_distribution=reward_distribution, policy=policy, context=context)"
      ],
      "execution_count": 0,
      "outputs": []
    },
    {
      "cell_type": "code",
      "metadata": {
        "id": "6SnkbP8_MozY",
        "colab_type": "code",
        "colab": {}
      },
      "source": [
        "experiences = 150\n",
        "for experience in range(experiences):\n",
        "  cbandit.run_experiment()"
      ],
      "execution_count": 0,
      "outputs": []
    },
    {
      "cell_type": "code",
      "metadata": {
        "id": "VcFwf6Gjalnf",
        "colab_type": "code",
        "colab": {
          "base_uri": "https://localhost:8080/",
          "height": 283
        },
        "outputId": "d603742c-a052-488d-bad0-9f7aa0c3f8f9"
      },
      "source": [
        "plt.scatter(policy.datasets[0]['context'], np.zeros_like(policy.datasets[0]['context']) + 0.1, label='arm 0')\n",
        "plt.scatter(policy.datasets[1]['context'], np.zeros_like(policy.datasets[1]['context']) - 0.1, label='arm 1')\n",
        "plt.ylim(-2, 2)\n",
        "plt.xlabel('Context')\n",
        "plt.legend();"
      ],
      "execution_count": 26,
      "outputs": [
        {
          "output_type": "display_data",
          "data": {
            "image/png": "[encoded data removed]",
            "text/plain": [
              "<Figure size 432x288 with 1 Axes>"
            ]
          },
          "metadata": {
            "tags": [],
            "needs_background": "light"
          }
        }
      ]
    },
    {
      "cell_type": "code",
      "metadata": {
        "id": "yz0OW0sS-eIE",
        "colab_type": "code",
        "colab": {}
      },
      "source": [
        "dataset = pd.concat([policy.datasets[0], policy.datasets[1]])\n",
        "dataset = dataset.sort_values(by='time')"
      ],
      "execution_count": 0,
      "outputs": []
    },
    {
      "cell_type": "code",
      "metadata": {
        "id": "_dvuaamzaqEs",
        "colab_type": "code",
        "colab": {
          "base_uri": "https://localhost:8080/",
          "height": 279
        },
        "outputId": "a1088025-8b20-4f3f-b8af-02520e7f5dd9"
      },
      "source": [
        "plt.scatter(policy.datasets[0]['time'], np.zeros_like(policy.datasets[0]['context']), label='arm 0')\n",
        "plt.scatter(policy.datasets[1]['time'], np.zeros_like(policy.datasets[1]['context']) + 0.1, label='arm 1')\n",
        "plt.plot(dataset['time'], dataset['context'], color='black', label='context')\n",
        "plt.xlabel('Time')\n",
        "plt.legend();"
      ],
      "execution_count": 28,
      "outputs": [
        {
          "output_type": "display_data",
          "data": {
            "image/png": "[encoded data removed]",
            "text/plain": [
              "<Figure size 432x288 with 1 Axes>"
            ]
          },
          "metadata": {
            "tags": [],
            "needs_background": "light"
          }
        }
      ]
    }
  ]
}