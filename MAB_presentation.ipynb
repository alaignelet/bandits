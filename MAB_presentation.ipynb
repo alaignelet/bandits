{
  "nbformat": 4,
  "nbformat_minor": 0,
  "metadata": {
    "colab": {
      "name": "MAB_presentation.ipynb",
      "provenance": [],
      "collapsed_sections": [],
      "toc_visible": true
    },
    "kernelspec": {
      "name": "python3",
      "display_name": "Python 3"
    },
    "widgets": {
      "application/vnd.jupyter.widget-state+json": {
        "ed9da55438d042f49bd6e935024203f5": {
          "model_module": "@jupyter-widgets/controls",
          "model_name": "HBoxModel",
          "state": {
            "_view_name": "HBoxView",
            "_dom_classes": [],
            "_model_name": "HBoxModel",
            "_view_module": "@jupyter-widgets/controls",
            "_model_module_version": "1.5.0",
            "_view_count": null,
            "_view_module_version": "1.5.0",
            "box_style": "",
            "layout": "IPY_MODEL_273428431cbb4c268ec6129d6ec7a7de",
            "_model_module": "@jupyter-widgets/controls",
            "children": [
              "IPY_MODEL_a2516e646bc140c3a0b324b0420f86f3",
              "IPY_MODEL_70edebefacbd4f249ca9d895611a6bc6"
            ]
          }
        },
        "273428431cbb4c268ec6129d6ec7a7de": {
          "model_module": "@jupyter-widgets/base",
          "model_name": "LayoutModel",
          "state": {
            "_view_name": "LayoutView",
            "grid_template_rows": null,
            "right": null,
            "justify_content": null,
            "_view_module": "@jupyter-widgets/base",
            "overflow": null,
            "_model_module_version": "1.2.0",
            "_view_count": null,
            "flex_flow": null,
            "width": null,
            "min_width": null,
            "border": null,
            "align_items": null,
            "bottom": null,
            "_model_module": "@jupyter-widgets/base",
            "top": null,
            "grid_column": null,
            "overflow_y": null,
            "overflow_x": null,
            "grid_auto_flow": null,
            "grid_area": null,
            "grid_template_columns": null,
            "flex": null,
            "_model_name": "LayoutModel",
            "justify_items": null,
            "grid_row": null,
            "max_height": null,
            "align_content": null,
            "visibility": null,
            "align_self": null,
            "height": null,
            "min_height": null,
            "padding": null,
            "grid_auto_rows": null,
            "grid_gap": null,
            "max_width": null,
            "order": null,
            "_view_module_version": "1.2.0",
            "grid_template_areas": null,
            "object_position": null,
            "object_fit": null,
            "grid_auto_columns": null,
            "margin": null,
            "display": null,
            "left": null
          }
        },
        "a2516e646bc140c3a0b324b0420f86f3": {
          "model_module": "@jupyter-widgets/controls",
          "model_name": "FloatProgressModel",
          "state": {
            "_view_name": "ProgressView",
            "style": "IPY_MODEL_8d52376351994e63b275e7ff63e08c80",
            "_dom_classes": [],
            "description": "100%",
            "_model_name": "FloatProgressModel",
            "bar_style": "success",
            "max": 200,
            "_view_module": "@jupyter-widgets/controls",
            "_model_module_version": "1.5.0",
            "value": 200,
            "_view_count": null,
            "_view_module_version": "1.5.0",
            "orientation": "horizontal",
            "min": 0,
            "description_tooltip": null,
            "_model_module": "@jupyter-widgets/controls",
            "layout": "IPY_MODEL_7fb95390279240bab4c50337e17ec9d6"
          }
        },
        "70edebefacbd4f249ca9d895611a6bc6": {
          "model_module": "@jupyter-widgets/controls",
          "model_name": "HTMLModel",
          "state": {
            "_view_name": "HTMLView",
            "style": "IPY_MODEL_13c50ffdbfeb47a8b98f6b68547dbfc2",
            "_dom_classes": [],
            "description": "",
            "_model_name": "HTMLModel",
            "placeholder": "​",
            "_view_module": "@jupyter-widgets/controls",
            "_model_module_version": "1.5.0",
            "value": " 200/200 [00:52&lt;00:00,  3.81it/s]",
            "_view_count": null,
            "_view_module_version": "1.5.0",
            "description_tooltip": null,
            "_model_module": "@jupyter-widgets/controls",
            "layout": "IPY_MODEL_5a44b0af054e4fb49a57b177843ae506"
          }
        },
        "8d52376351994e63b275e7ff63e08c80": {
          "model_module": "@jupyter-widgets/controls",
          "model_name": "ProgressStyleModel",
          "state": {
            "_view_name": "StyleView",
            "_model_name": "ProgressStyleModel",
            "description_width": "initial",
            "_view_module": "@jupyter-widgets/base",
            "_model_module_version": "1.5.0",
            "_view_count": null,
            "_view_module_version": "1.2.0",
            "bar_color": null,
            "_model_module": "@jupyter-widgets/controls"
          }
        },
        "7fb95390279240bab4c50337e17ec9d6": {
          "model_module": "@jupyter-widgets/base",
          "model_name": "LayoutModel",
          "state": {
            "_view_name": "LayoutView",
            "grid_template_rows": null,
            "right": null,
            "justify_content": null,
            "_view_module": "@jupyter-widgets/base",
            "overflow": null,
            "_model_module_version": "1.2.0",
            "_view_count": null,
            "flex_flow": null,
            "width": null,
            "min_width": null,
            "border": null,
            "align_items": null,
            "bottom": null,
            "_model_module": "@jupyter-widgets/base",
            "top": null,
            "grid_column": null,
            "overflow_y": null,
            "overflow_x": null,
            "grid_auto_flow": null,
            "grid_area": null,
            "grid_template_columns": null,
            "flex": null,
            "_model_name": "LayoutModel",
            "justify_items": null,
            "grid_row": null,
            "max_height": null,
            "align_content": null,
            "visibility": null,
            "align_self": null,
            "height": null,
            "min_height": null,
            "padding": null,
            "grid_auto_rows": null,
            "grid_gap": null,
            "max_width": null,
            "order": null,
            "_view_module_version": "1.2.0",
            "grid_template_areas": null,
            "object_position": null,
            "object_fit": null,
            "grid_auto_columns": null,
            "margin": null,
            "display": null,
            "left": null
          }
        },
        "13c50ffdbfeb47a8b98f6b68547dbfc2": {
          "model_module": "@jupyter-widgets/controls",
          "model_name": "DescriptionStyleModel",
          "state": {
            "_view_name": "StyleView",
            "_model_name": "DescriptionStyleModel",
            "description_width": "",
            "_view_module": "@jupyter-widgets/base",
            "_model_module_version": "1.5.0",
            "_view_count": null,
            "_view_module_version": "1.2.0",
            "_model_module": "@jupyter-widgets/controls"
          }
        },
        "5a44b0af054e4fb49a57b177843ae506": {
          "model_module": "@jupyter-widgets/base",
          "model_name": "LayoutModel",
          "state": {
            "_view_name": "LayoutView",
            "grid_template_rows": null,
            "right": null,
            "justify_content": null,
            "_view_module": "@jupyter-widgets/base",
            "overflow": null,
            "_model_module_version": "1.2.0",
            "_view_count": null,
            "flex_flow": null,
            "width": null,
            "min_width": null,
            "border": null,
            "align_items": null,
            "bottom": null,
            "_model_module": "@jupyter-widgets/base",
            "top": null,
            "grid_column": null,
            "overflow_y": null,
            "overflow_x": null,
            "grid_auto_flow": null,
            "grid_area": null,
            "grid_template_columns": null,
            "flex": null,
            "_model_name": "LayoutModel",
            "justify_items": null,
            "grid_row": null,
            "max_height": null,
            "align_content": null,
            "visibility": null,
            "align_self": null,
            "height": null,
            "min_height": null,
            "padding": null,
            "grid_auto_rows": null,
            "grid_gap": null,
            "max_width": null,
            "order": null,
            "_view_module_version": "1.2.0",
            "grid_template_areas": null,
            "object_position": null,
            "object_fit": null,
            "grid_auto_columns": null,
            "margin": null,
            "display": null,
            "left": null
          }
        },
        "15f549b3471942b1ae133ff12f679518": {
          "model_module": "@jupyter-widgets/controls",
          "model_name": "HBoxModel",
          "state": {
            "_view_name": "HBoxView",
            "_dom_classes": [],
            "_model_name": "HBoxModel",
            "_view_module": "@jupyter-widgets/controls",
            "_model_module_version": "1.5.0",
            "_view_count": null,
            "_view_module_version": "1.5.0",
            "box_style": "",
            "layout": "IPY_MODEL_c44329fb58a741c2bc846e5706c275d5",
            "_model_module": "@jupyter-widgets/controls",
            "children": [
              "IPY_MODEL_3a08c7302c234449a18a08af01527984",
              "IPY_MODEL_81ce69e70ca0407193d44d623bf025cd"
            ]
          }
        },
        "c44329fb58a741c2bc846e5706c275d5": {
          "model_module": "@jupyter-widgets/base",
          "model_name": "LayoutModel",
          "state": {
            "_view_name": "LayoutView",
            "grid_template_rows": null,
            "right": null,
            "justify_content": null,
            "_view_module": "@jupyter-widgets/base",
            "overflow": null,
            "_model_module_version": "1.2.0",
            "_view_count": null,
            "flex_flow": null,
            "width": null,
            "min_width": null,
            "border": null,
            "align_items": null,
            "bottom": null,
            "_model_module": "@jupyter-widgets/base",
            "top": null,
            "grid_column": null,
            "overflow_y": null,
            "overflow_x": null,
            "grid_auto_flow": null,
            "grid_area": null,
            "grid_template_columns": null,
            "flex": null,
            "_model_name": "LayoutModel",
            "justify_items": null,
            "grid_row": null,
            "max_height": null,
            "align_content": null,
            "visibility": null,
            "align_self": null,
            "height": null,
            "min_height": null,
            "padding": null,
            "grid_auto_rows": null,
            "grid_gap": null,
            "max_width": null,
            "order": null,
            "_view_module_version": "1.2.0",
            "grid_template_areas": null,
            "object_position": null,
            "object_fit": null,
            "grid_auto_columns": null,
            "margin": null,
            "display": null,
            "left": null
          }
        },
        "3a08c7302c234449a18a08af01527984": {
          "model_module": "@jupyter-widgets/controls",
          "model_name": "FloatProgressModel",
          "state": {
            "_view_name": "ProgressView",
            "style": "IPY_MODEL_adf961cb5904418f9708a3074c976aa0",
            "_dom_classes": [],
            "description": "100%",
            "_model_name": "FloatProgressModel",
            "bar_style": "success",
            "max": 200,
            "_view_module": "@jupyter-widgets/controls",
            "_model_module_version": "1.5.0",
            "value": 200,
            "_view_count": null,
            "_view_module_version": "1.5.0",
            "orientation": "horizontal",
            "min": 0,
            "description_tooltip": null,
            "_model_module": "@jupyter-widgets/controls",
            "layout": "IPY_MODEL_9a007033f3e64464bf7d3ce53598ea32"
          }
        },
        "81ce69e70ca0407193d44d623bf025cd": {
          "model_module": "@jupyter-widgets/controls",
          "model_name": "HTMLModel",
          "state": {
            "_view_name": "HTMLView",
            "style": "IPY_MODEL_65f4633d70534fc08e1585f447c23a24",
            "_dom_classes": [],
            "description": "",
            "_model_name": "HTMLModel",
            "placeholder": "​",
            "_view_module": "@jupyter-widgets/controls",
            "_model_module_version": "1.5.0",
            "value": " 200/200 [00:31&lt;00:00,  6.28it/s]",
            "_view_count": null,
            "_view_module_version": "1.5.0",
            "description_tooltip": null,
            "_model_module": "@jupyter-widgets/controls",
            "layout": "IPY_MODEL_6cd5f232140844faa5bcb6ad693c8847"
          }
        },
        "adf961cb5904418f9708a3074c976aa0": {
          "model_module": "@jupyter-widgets/controls",
          "model_name": "ProgressStyleModel",
          "state": {
            "_view_name": "StyleView",
            "_model_name": "ProgressStyleModel",
            "description_width": "initial",
            "_view_module": "@jupyter-widgets/base",
            "_model_module_version": "1.5.0",
            "_view_count": null,
            "_view_module_version": "1.2.0",
            "bar_color": null,
            "_model_module": "@jupyter-widgets/controls"
          }
        },
        "9a007033f3e64464bf7d3ce53598ea32": {
          "model_module": "@jupyter-widgets/base",
          "model_name": "LayoutModel",
          "state": {
            "_view_name": "LayoutView",
            "grid_template_rows": null,
            "right": null,
            "justify_content": null,
            "_view_module": "@jupyter-widgets/base",
            "overflow": null,
            "_model_module_version": "1.2.0",
            "_view_count": null,
            "flex_flow": null,
            "width": null,
            "min_width": null,
            "border": null,
            "align_items": null,
            "bottom": null,
            "_model_module": "@jupyter-widgets/base",
            "top": null,
            "grid_column": null,
            "overflow_y": null,
            "overflow_x": null,
            "grid_auto_flow": null,
            "grid_area": null,
            "grid_template_columns": null,
            "flex": null,
            "_model_name": "LayoutModel",
            "justify_items": null,
            "grid_row": null,
            "max_height": null,
            "align_content": null,
            "visibility": null,
            "align_self": null,
            "height": null,
            "min_height": null,
            "padding": null,
            "grid_auto_rows": null,
            "grid_gap": null,
            "max_width": null,
            "order": null,
            "_view_module_version": "1.2.0",
            "grid_template_areas": null,
            "object_position": null,
            "object_fit": null,
            "grid_auto_columns": null,
            "margin": null,
            "display": null,
            "left": null
          }
        },
        "65f4633d70534fc08e1585f447c23a24": {
          "model_module": "@jupyter-widgets/controls",
          "model_name": "DescriptionStyleModel",
          "state": {
            "_view_name": "StyleView",
            "_model_name": "DescriptionStyleModel",
            "description_width": "",
            "_view_module": "@jupyter-widgets/base",
            "_model_module_version": "1.5.0",
            "_view_count": null,
            "_view_module_version": "1.2.0",
            "_model_module": "@jupyter-widgets/controls"
          }
        },
        "6cd5f232140844faa5bcb6ad693c8847": {
          "model_module": "@jupyter-widgets/base",
          "model_name": "LayoutModel",
          "state": {
            "_view_name": "LayoutView",
            "grid_template_rows": null,
            "right": null,
            "justify_content": null,
            "_view_module": "@jupyter-widgets/base",
            "overflow": null,
            "_model_module_version": "1.2.0",
            "_view_count": null,
            "flex_flow": null,
            "width": null,
            "min_width": null,
            "border": null,
            "align_items": null,
            "bottom": null,
            "_model_module": "@jupyter-widgets/base",
            "top": null,
            "grid_column": null,
            "overflow_y": null,
            "overflow_x": null,
            "grid_auto_flow": null,
            "grid_area": null,
            "grid_template_columns": null,
            "flex": null,
            "_model_name": "LayoutModel",
            "justify_items": null,
            "grid_row": null,
            "max_height": null,
            "align_content": null,
            "visibility": null,
            "align_self": null,
            "height": null,
            "min_height": null,
            "padding": null,
            "grid_auto_rows": null,
            "grid_gap": null,
            "max_width": null,
            "order": null,
            "_view_module_version": "1.2.0",
            "grid_template_areas": null,
            "object_position": null,
            "object_fit": null,
            "grid_auto_columns": null,
            "margin": null,
            "display": null,
            "left": null
          }
        }
      }
    }
  },
  "cells": [
    {
      "cell_type": "markdown",
      "metadata": {
        "id": "jMn9obL6bHxV",
        "colab_type": "text"
      },
      "source": [
        "Author: Alexis Laignelet \\\\\n",
        "Date: 8th June 2020"
      ]
    },
    {
      "cell_type": "code",
      "metadata": {
        "id": "8qjNn_OQKJo3",
        "colab_type": "code",
        "colab": {}
      },
      "source": [
        "import numpy as np\n",
        "import matplotlib.pyplot as plt\n",
        "from tqdm.notebook import tqdm\n",
        "import scipy.stats as stats\n",
        "import pandas as pd\n",
        "from scipy.special import expit\n",
        "from sklearn.linear_model import LogisticRegression\n",
        "from abc import ABC, abstractmethod "
      ],
      "execution_count": 0,
      "outputs": []
    },
    {
      "cell_type": "code",
      "metadata": {
        "id": "2-UI0MrCU_me",
        "colab_type": "code",
        "colab": {}
      },
      "source": [
        "def bernoulli_reward(mean):\n",
        "  return stats.bernoulli(mean)\n",
        "\n",
        "def normal_reward(mean):\n",
        "  return stats.norm(loc=mean, scale=1.)\n",
        "\n",
        "def normal_mean():\n",
        "  return stats.norm(loc=0, scale=1.)\n",
        "\n",
        "def uniform_mean():\n",
        "  return stats.uniform(loc=0, scale=1.)"
      ],
      "execution_count": 0,
      "outputs": []
    },
    {
      "cell_type": "code",
      "metadata": {
        "id": "svz1FL5ZuS6S",
        "colab_type": "code",
        "colab": {}
      },
      "source": [
        "class Bandit:\n",
        "  def __init__(self, k, mean_distribution, reward_distribution, policy):\n",
        "    self.k = k\n",
        "    self.arm_means = mean_distribution().rvs(k)\n",
        "    self.arm_reward_distributions = [reward_distribution(mean) for mean in self.arm_means]\n",
        "    self.arm_trial_counts = np.zeros(k)\n",
        "    self.policy = policy\n",
        "\n",
        "  def get_reward(self, chosen_arm):\n",
        "    reward = self.arm_reward_distributions[chosen_arm].rvs()\n",
        "    return reward\n",
        "\n",
        "  def run_experiment(self):\n",
        "    chosen_arm = self.policy.choose_arm()\n",
        "    reward = self.get_reward(chosen_arm)\n",
        "    self.policy.update_policy(chosen_arm, reward)\n",
        "    return reward"
      ],
      "execution_count": 0,
      "outputs": []
    },
    {
      "cell_type": "code",
      "metadata": {
        "id": "gHJWz1sjmY6_",
        "colab_type": "code",
        "colab": {}
      },
      "source": [
        "class Policy(ABC):\n",
        "  @abstractmethod\n",
        "  def choose_arm(self):\n",
        "    pass\n",
        "\n",
        "  @abstractmethod\n",
        "  def update_policy(self, chosen_arm, reward):\n",
        "    pass"
      ],
      "execution_count": 0,
      "outputs": []
    },
    {
      "cell_type": "code",
      "metadata": {
        "id": "hEE6PUSJqPBJ",
        "colab_type": "code",
        "colab": {}
      },
      "source": [
        "class GreedyPolicy(Policy):\n",
        "  def __init__(self, epsilon, k):\n",
        "    self.k = k\n",
        "    self.epsilon = epsilon\n",
        "    self.arm_estimated_means = np.zeros(self.k)\n",
        "    self.arm_trial_counts = np.zeros(self.k)\n",
        "\n",
        "  def choose_arm(self): \n",
        "    if self.epsilon > np.random.uniform(0, 1): \n",
        "        chosen_arm = np.random.randint(self.k)\n",
        "    else:\n",
        "        chosen_arm = np.argmax(self.arm_estimated_means)\n",
        "    return chosen_arm   \n",
        "\n",
        "  def update_policy(self, chosen_arm, reward):\n",
        "    self.arm_trial_counts[chosen_arm] += 1 \n",
        "    alpha = 1./self.arm_trial_counts[chosen_arm]\n",
        "    self.arm_estimated_means[chosen_arm] += alpha * (reward - self.arm_estimated_means[chosen_arm])"
      ],
      "execution_count": 0,
      "outputs": []
    },
    {
      "cell_type": "code",
      "metadata": {
        "id": "4AuQJVLY61TO",
        "colab_type": "code",
        "colab": {}
      },
      "source": [
        "class UBCPolicy(Policy):\n",
        "  def __init__(self, k):\n",
        "    self.k = k\n",
        "    self.arm_radiuses = np.zeros(k)\n",
        "    self.arm_estimated_means = np.zeros(self.k)\n",
        "    self.arm_trial_counts = np.zeros(self.k)\n",
        "\n",
        "  def choose_arm(self):\n",
        "    return np.argmax(self.arm_estimated_means + self.arm_radiuses)\n",
        "\n",
        "  def update_policy(self, chosen_arm, reward):\n",
        "    self.arm_trial_counts[chosen_arm] += 1 \n",
        "    self.arm_radiuses = np.sqrt(2 * np.log(1 + self.arm_trial_counts.sum()) / (1 + self.arm_trial_counts))\n",
        "    alpha = 1./self.arm_trial_counts[chosen_arm]\n",
        "    self.arm_estimated_means[chosen_arm] += alpha * (reward - self.arm_estimated_means[chosen_arm])"
      ],
      "execution_count": 0,
      "outputs": []
    },
    {
      "cell_type": "code",
      "metadata": {
        "id": "FZ2ngsHk8mzt",
        "colab_type": "code",
        "colab": {}
      },
      "source": [
        "class ThompsonPolicy(Policy):\n",
        "  def __init__(self, k):\n",
        "    self.k = k\n",
        "    self.arm_trial_counts = np.zeros(self.k)\n",
        "    self.arm_success_counts = np.zeros(self.k) \n",
        "    self.arm_prior_distributions = [stats.beta(a=1, b=1) for i in range(self.k)]\n",
        "  \n",
        "  def choose_arm(self):\n",
        "    theta_samples = np.array([distribution.rvs(1).item() for distribution in self.arm_prior_distributions])\n",
        "    return np.argmax(theta_samples)\n",
        "\n",
        "  def update_policy(self, chosen_arm, reward):\n",
        "    self.arm_trial_counts[chosen_arm] += 1\n",
        "    self.arm_success_counts[chosen_arm] += reward\n",
        "    posterior_distributions = [stats.beta(a=1+success_count, b=1+trial_count-success_count)\n",
        "                               for trial_count, success_count in zip(self.arm_trial_counts, self.arm_success_counts)]\n",
        "    self.arm_prior_distributions = posterior_distributions"
      ],
      "execution_count": 0,
      "outputs": []
    },
    {
      "cell_type": "markdown",
      "metadata": {
        "id": "9gBBUqONCfLe",
        "colab_type": "text"
      },
      "source": [
        "# Example 1 - Stochastic bandits\n",
        "\n",
        "Let k arms with rewards following a Gaussian distribution $\\mathcal{N}(\\mu_i, 1)$. For simplicity the means $\\mu_i$ are generated from a uniform distribution $\\mathcal{U}[0, 1]$.\n",
        "\n",
        "Two policies are implemented:\n",
        "\n",
        "\n",
        "*   $\\epsilon$-greedy,\n",
        "*   Upper Confidence Bound.\n",
        "\n",
        "\n",
        "The estimated mean is computed this way:\n",
        "\\begin{align*}\n",
        "  \\mathbb{E}[\\mu_a] \\leftarrow  \\mathbb{E}[\\mu_a] + \\alpha \\left(R_{a, t} - \\mathbb{E}[\\mu_a] \\right)\n",
        "\\end{align*}\n",
        "\n",
        "Usually $\\alpha = \\frac{1}{T_a}$ but you can 'forget' faster by taking higher values for $\\alpha$. Eg $\\alpha = 0.1$. \n"
      ]
    },
    {
      "cell_type": "code",
      "metadata": {
        "id": "TkOuSyrKzfUX",
        "colab_type": "code",
        "colab": {}
      },
      "source": [
        "def multi_experiments(bandit, experiences):\n",
        "  max_mean = max(bandit.arm_means)\n",
        "  rewards = np.zeros(experiences) \n",
        "  regrets = np.zeros(experiences+1)\n",
        "  \n",
        "  for it in range(experiences):\n",
        "    reward = bandit.run_experiment()\n",
        "    rewards[it] = reward\n",
        "    regrets[it+1] = regrets[it] + max_mean - reward\n",
        "\n",
        "  return rewards, regrets[1:]"
      ],
      "execution_count": 0,
      "outputs": []
    },
    {
      "cell_type": "code",
      "metadata": {
        "id": "9C293ZADzJmB",
        "colab_type": "code",
        "colab": {}
      },
      "source": [
        "def average_results(k, mean_distribution, reward_distribution, experiences, n_average, epsilon=None):\n",
        "  average_rewards = np.zeros(experiences)\n",
        "  average_regrets = np.zeros(experiences)\n",
        "\n",
        "  for i in tqdm(range(n_average)):\n",
        "    if epsilon != None:\n",
        "      policy = GreedyPolicy(epsilon=epsilon, k=k)\n",
        "    else:\n",
        "      policy = UBCPolicy(k)\n",
        "    bandit = Bandit(k=k, mean_distribution=mean_distribution, reward_distribution=reward_distribution, policy=policy)\n",
        "    new_rewards, new_regrets = multi_experiments(bandit, experiences)\n",
        "    average_rewards += new_rewards\n",
        "    average_regrets += new_regrets \n",
        "\n",
        "  average_rewards /= n_average \n",
        "  average_regrets /= n_average\n",
        "  return average_rewards, average_regrets"
      ],
      "execution_count": 0,
      "outputs": []
    },
    {
      "cell_type": "code",
      "metadata": {
        "id": "Dnkps00Uy_yX",
        "colab_type": "code",
        "colab": {}
      },
      "source": [
        "k = 10\n",
        "epsilon = 0.01\n",
        "mean_distribution = normal_mean\n",
        "reward_distribution = normal_reward\n",
        "experiences = 1000\n",
        "n_average = 200"
      ],
      "execution_count": 0,
      "outputs": []
    },
    {
      "cell_type": "code",
      "metadata": {
        "id": "fg94xtKe14oy",
        "colab_type": "code",
        "colab": {
          "base_uri": "https://localhost:8080/",
          "height": 117,
          "referenced_widgets": [
            "ed9da55438d042f49bd6e935024203f5",
            "273428431cbb4c268ec6129d6ec7a7de",
            "a2516e646bc140c3a0b324b0420f86f3",
            "70edebefacbd4f249ca9d895611a6bc6",
            "8d52376351994e63b275e7ff63e08c80",
            "7fb95390279240bab4c50337e17ec9d6",
            "13c50ffdbfeb47a8b98f6b68547dbfc2",
            "5a44b0af054e4fb49a57b177843ae506",
            "15f549b3471942b1ae133ff12f679518",
            "c44329fb58a741c2bc846e5706c275d5",
            "3a08c7302c234449a18a08af01527984",
            "81ce69e70ca0407193d44d623bf025cd",
            "adf961cb5904418f9708a3074c976aa0",
            "9a007033f3e64464bf7d3ce53598ea32",
            "65f4633d70534fc08e1585f447c23a24",
            "6cd5f232140844faa5bcb6ad693c8847"
          ]
        },
        "outputId": "be46644d-a66b-457d-e1f4-34a0fa489319"
      },
      "source": [
        "average_rewards_greedy, average_regrets_greedy = average_results(k, mean_distribution, reward_distribution, experiences, n_average, epsilon=epsilon)\n",
        "average_rewards_ucb, average_regrets_ucb = average_results(k, mean_distribution, reward_distribution, experiences, n_average)"
      ],
      "execution_count": 94,
      "outputs": [
        {
          "output_type": "display_data",
          "data": {
            "application/vnd.jupyter.widget-view+json": {
              "model_id": "ed9da55438d042f49bd6e935024203f5",
              "version_minor": 0,
              "version_major": 2
            },
            "text/plain": [
              "HBox(children=(FloatProgress(value=0.0, max=200.0), HTML(value='')))"
            ]
          },
          "metadata": {
            "tags": []
          }
        },
        {
          "output_type": "stream",
          "text": [
            "\n"
          ],
          "name": "stdout"
        },
        {
          "output_type": "display_data",
          "data": {
            "application/vnd.jupyter.widget-view+json": {
              "model_id": "15f549b3471942b1ae133ff12f679518",
              "version_minor": 0,
              "version_major": 2
            },
            "text/plain": [
              "HBox(children=(FloatProgress(value=0.0, max=200.0), HTML(value='')))"
            ]
          },
          "metadata": {
            "tags": []
          }
        },
        {
          "output_type": "stream",
          "text": [
            "\n"
          ],
          "name": "stdout"
        }
      ]
    },
    {
      "cell_type": "code",
      "metadata": {
        "id": "rdmep4YS21GE",
        "colab_type": "code",
        "colab": {
          "base_uri": "https://localhost:8080/",
          "height": 281
        },
        "outputId": "3049b800-3500-4a83-9538-8229fc32465a"
      },
      "source": [
        "plt.plot(average_rewards_greedy, label='$\\epsilon$-greedy')\n",
        "plt.plot(average_rewards_ucb, label='UCB')\n",
        "plt.xlabel('Iteration')\n",
        "plt.ylabel('Reward')\n",
        "plt.legend();"
      ],
      "execution_count": 95,
      "outputs": [
        {
          "output_type": "display_data",
          "data": {
            "image/png": "[encoded data removed]",
            "text/plain": [
              "<Figure size 432x288 with 1 Axes>"
            ]
          },
          "metadata": {
            "tags": [],
            "needs_background": "light"
          }
        }
      ]
    },
    {
      "cell_type": "code",
      "metadata": {
        "id": "Zpx4XSHP27hk",
        "colab_type": "code",
        "colab": {
          "base_uri": "https://localhost:8080/",
          "height": 279
        },
        "outputId": "f3ac3b53-c4e6-4b8a-aa2e-161970dec181"
      },
      "source": [
        "plt.plot(average_regrets_greedy, label='$\\epsilon$-greedy')\n",
        "plt.plot(average_regrets_ucb, label='UCB')\n",
        "plt.xlabel('Iteration')\n",
        "plt.ylabel('Regret')\n",
        "plt.legend();"
      ],
      "execution_count": 96,
      "outputs": [
        {
          "output_type": "display_data",
          "data": {
            "image/png": "[encoded data removed]",
            "text/plain": [
              "<Figure size 432x288 with 1 Axes>"
            ]
          },
          "metadata": {
            "tags": [],
            "needs_background": "light"
          }
        }
      ]
    },
    {
      "cell_type": "markdown",
      "metadata": {
        "id": "uD9dDL5FOJ6C",
        "colab_type": "text"
      },
      "source": [
        "# Example 2 - Bernoulli bandits\n",
        "\n",
        "In this setup, the likelihood $p(x | \\theta)$ follows a Bernoulli. A natural choice for the prior is the Beta distribution since it is a conjugate prior with the Bernoulli distribution. In this context, the posterior is also a Beta distribution that evolves according to: if $x$ is a win, the posterior becomes $Beta(\\alpha +1, \\beta)$, and if it is a fail, it becomes $Beta(\\alpha, \\beta +1)$.\n"
      ]
    },
    {
      "cell_type": "code",
      "metadata": {
        "id": "C1FepjEN97Ph",
        "colab_type": "code",
        "colab": {}
      },
      "source": [
        "def plot_thompson_priors(policy, ax, experience):\n",
        "  x = np.linspace(0.001, 0.999, 100)\n",
        "  for arm_prior_distribution in policy.arm_prior_distributions:\n",
        "      y = arm_prior_distribution.pdf(x)\n",
        "      ax.plot(x, y)\n",
        "      ax.fill_between(x, y, 0, alpha=0.2)\n",
        "  ax.set_xlabel('x')\n",
        "  ax.set_ylabel('Prior')\n",
        "  ax.set_title('t = ' + str(experience))"
      ],
      "execution_count": 0,
      "outputs": []
    },
    {
      "cell_type": "code",
      "metadata": {
        "id": "gEWR5l5xHemo",
        "colab_type": "code",
        "colab": {}
      },
      "source": [
        "k = 3\n",
        "mean_distribution = uniform_mean\n",
        "reward_distribution = bernoulli_reward\n",
        "experiences = 50\n",
        "indexes = [int(ratio * (experiences-1)) for ratio in [0.25, 0.5, 0.75, 1.]]"
      ],
      "execution_count": 0,
      "outputs": []
    },
    {
      "cell_type": "code",
      "metadata": {
        "id": "xjND8mc6Dr2W",
        "colab_type": "code",
        "colab": {}
      },
      "source": [
        "policy = ThompsonPolicy(k)\n",
        "bandit = Bandit(k=k, mean_distribution=mean_distribution, reward_distribution=reward_distribution, policy=policy)"
      ],
      "execution_count": 0,
      "outputs": []
    },
    {
      "cell_type": "code",
      "metadata": {
        "id": "08F56qmf97d2",
        "colab_type": "code",
        "colab": {
          "base_uri": "https://localhost:8080/",
          "height": 533
        },
        "outputId": "5a35d8e9-ca85-4d3d-bd40-bdd3bdce0673"
      },
      "source": [
        "fig, axs = plt.subplots(2, 2, figsize=(12,8))\n",
        "axs = axs.flatten()\n",
        "fig.tight_layout(pad=5.0)\n",
        "for experience in range(experiences):\n",
        "  bandit.run_experiment()\n",
        "  if experience in indexes:\n",
        "    policy = bandit.policy\n",
        "    plot_thompson_priors(policy=policy, ax=axs[indexes.index(experience)], experience=experience)"
      ],
      "execution_count": 161,
      "outputs": [
        {
          "output_type": "display_data",
          "data": {
            "image/png": "[encoded data removed]",
            "text/plain": [
              "<Figure size 864x576 with 4 Axes>"
            ]
          },
          "metadata": {
            "tags": [],
            "needs_background": "light"
          }
        }
      ]
    },
    {
      "cell_type": "markdown",
      "metadata": {
        "id": "1AYEK1ErPGkw",
        "colab_type": "text"
      },
      "source": [
        "# Example 3 - Contextual bandits\n",
        "\n",
        "In this setup, the context influences the probabilities of the Bernoulli law of the arms. For convenience, we chose to model this effect by defining then as the result of a logistic regression over the context, where the parameters are unkown for the learner.\n",
        "\\begin{align*}\n",
        "  p_k(x) = \\frac{1}{1 + e^{- a_k x - \\epsilon}}\n",
        "\\end{align*}\n",
        "\n",
        "with $\\epsilon \\sim \\mathcal{N}(0, \\sigma^2)$.\n",
        "\n",
        "Again, for convenience, the context is only model by a unique variable $x$, and the logistic regression only has one parameter."
      ]
    },
    {
      "cell_type": "code",
      "metadata": {
        "id": "HsVfgSb3Sj4S",
        "colab_type": "code",
        "colab": {}
      },
      "source": [
        "def sine_context(time):\n",
        "  return np.sin(0.1 * time)"
      ],
      "execution_count": 0,
      "outputs": []
    },
    {
      "cell_type": "code",
      "metadata": {
        "id": "4bDWxexOWBn2",
        "colab_type": "code",
        "colab": {}
      },
      "source": [
        "def sigmoid_mean(arm_parameter, context):\n",
        "  return expit(arm_parameter * context)"
      ],
      "execution_count": 0,
      "outputs": []
    },
    {
      "cell_type": "code",
      "metadata": {
        "id": "GKLEDnxTevff",
        "colab_type": "code",
        "colab": {}
      },
      "source": [
        "def lognormal_parameter():\n",
        "  return stats.lognorm(s=1)"
      ],
      "execution_count": 0,
      "outputs": []
    },
    {
      "cell_type": "code",
      "metadata": {
        "id": "XvJxExabbtLK",
        "colab_type": "code",
        "colab": {}
      },
      "source": [
        "class ContextualBandit(Bandit):\n",
        "  def __init__(self, k, parameter_distribution, mean_construction, reward_distribution, policy, context):\n",
        "    self.k = k\n",
        "    self.context = context\n",
        "    self.arm_parameters = parameter_distribution().rvs(k)\n",
        "    self.arm_means = [mean_construction(parameter, self.context(0)) for parameter in self.arm_parameters]\n",
        "    self.arm_reward_distributions = [reward_distribution(mean) for mean in self.arm_means]\n",
        "    self.time = 0\n",
        "    self.policy = policy\n",
        "\n",
        "  def get_reward(self, chosen_arm):\n",
        "    self.arm_means = [mean_construction(parameter, self.context(self.time)) for parameter in self.arm_parameters]\n",
        "    reward = self.arm_reward_distributions[chosen_arm].rvs()\n",
        "    return reward\n",
        "\n",
        "  def run_experiment(self):\n",
        "    chosen_arm = self.policy.choose_arm()\n",
        "    reward = self.get_reward(chosen_arm)\n",
        "    self.policy.update_policy(chosen_arm, reward)\n",
        "    self.time += 1\n",
        "    return reward"
      ],
      "execution_count": 0,
      "outputs": []
    },
    {
      "cell_type": "code",
      "metadata": {
        "id": "rLTiYJu-T7ew",
        "colab_type": "code",
        "colab": {}
      },
      "source": [
        "class ContextGreedyPolicy(Policy):\n",
        "  def __init__(self, epsilon, k, context):\n",
        "    self.k = k\n",
        "    self.context = context\n",
        "    self.epsilon = epsilon\n",
        "    self.arm_estimated_means = np.zeros(self.k)\n",
        "    self.time = 0\n",
        "    self.history = []\n",
        "\n",
        "  def choose_arm(self):\n",
        "    df = pd.DataFrame(self.history, columns=['x', 'k', 'reward'])\n",
        "    if df.groupby(['k', 'reward']).size().shape[0] == 2 * self.k:\n",
        "      if self.epsilon > np.random.uniform(0, 1): \n",
        "        chosen_arm = np.random.randint(self.k)\n",
        "      else:\n",
        "        chosen_arm = np.argmax(self.arm_estimated_means)\n",
        "    else:\n",
        "      chosen_arm = np.random.randint(self.k)\n",
        "    return chosen_arm \n",
        "\n",
        "  def update_policy(self, chosen_arm, reward):\n",
        "    update = {}\n",
        "    update['x'] = self.context(self.time)\n",
        "    update['k'] = chosen_arm\n",
        "    update['reward'] = reward\n",
        "    self.history.append(update)\n",
        "\n",
        "    df = pd.DataFrame(self.history, columns=['x', 'k', 'reward'])\n",
        "\n",
        "    if df.groupby(['k', 'reward']).size().shape[0] == 2 * self.k:\n",
        "      for i in range(self.k):\n",
        "        data = df[df['k'] == i]\n",
        "        X = data['x']\n",
        "        y = data['reward']\n",
        "        lr = LogisticRegression(fit_intercept=False).fit(X.values.reshape(-1, 1), y)\n",
        "        current_x = self.context(self.time)\n",
        "        self.arm_estimated_means[i] = lr.predict_proba(np.array(current_x).reshape(-1, 1))[0][1]\n",
        "\n",
        "    self.time += 1"
      ],
      "execution_count": 0,
      "outputs": []
    },
    {
      "cell_type": "code",
      "metadata": {
        "id": "mfRkCej_m3Gj",
        "colab_type": "code",
        "colab": {}
      },
      "source": [
        "def plot_mean(bandit):\n",
        "  x = np.linspace(-5, 5, 200)\n",
        "  for i, value in enumerate(bandit.arm_parameters):\n",
        "    plt.plot(x, expit(value * x), label='arm ' + str(i))\n",
        "  plt.xlabel('Context x')\n",
        "  plt.ylabel('Mean reward')\n",
        "  plt.legend()"
      ],
      "execution_count": 0,
      "outputs": []
    },
    {
      "cell_type": "code",
      "metadata": {
        "id": "YM1kVbrseD7z",
        "colab_type": "code",
        "colab": {}
      },
      "source": [
        "k = 2\n",
        "epsilon = 0.01\n",
        "parameter_distribution = lognormal_parameter\n",
        "mean_construction = sigmoid_mean\n",
        "reward_distribution = bernoulli_reward\n",
        "context = sine_context\n",
        "policy = ContextGreedyPolicy(epsilon=epsilon, k=k, context=context)\n",
        "experiences = 100"
      ],
      "execution_count": 0,
      "outputs": []
    },
    {
      "cell_type": "code",
      "metadata": {
        "id": "HvZe0eXWd8kE",
        "colab_type": "code",
        "colab": {}
      },
      "source": [
        "cbandit = ContextualBandit(k=k, parameter_distribution=parameter_distribution, mean_construction=mean_construction,\n",
        "                           reward_distribution=reward_distribution, policy=policy, context=context)"
      ],
      "execution_count": 0,
      "outputs": []
    },
    {
      "cell_type": "code",
      "metadata": {
        "id": "o10lBkdTngHv",
        "colab_type": "code",
        "colab": {
          "base_uri": "https://localhost:8080/",
          "height": 279
        },
        "outputId": "2b11ed4f-4ace-4c96-abcb-26f56bc8fbbf"
      },
      "source": [
        "plot_mean(cbandit)"
      ],
      "execution_count": 293,
      "outputs": [
        {
          "output_type": "display_data",
          "data": {
            "image/png": "[encoded data removed]",
            "text/plain": [
              "<Figure size 432x288 with 1 Axes>"
            ]
          },
          "metadata": {
            "tags": [],
            "needs_background": "light"
          }
        }
      ]
    },
    {
      "cell_type": "code",
      "metadata": {
        "id": "hI8lcG6id2wL",
        "colab_type": "code",
        "colab": {}
      },
      "source": [
        "for experience in range(experiences):\n",
        "  cbandit.run_experiment()"
      ],
      "execution_count": 0,
      "outputs": []
    },
    {
      "cell_type": "code",
      "metadata": {
        "id": "O8O0S2aFkIu_",
        "colab_type": "code",
        "colab": {}
      },
      "source": [
        "data = pd.DataFrame(cbandit.policy.history)\n",
        "data0 = data[data['k'] == 0]\n",
        "data1 = data[data['k'] == 1]"
      ],
      "execution_count": 0,
      "outputs": []
    },
    {
      "cell_type": "code",
      "metadata": {
        "id": "OYgzCDP5mjlH",
        "colab_type": "code",
        "colab": {
          "base_uri": "https://localhost:8080/",
          "height": 279
        },
        "outputId": "bbc845a9-9a0a-4757-d439-ff0e8eec9de8"
      },
      "source": [
        "plt.plot(data['x'], color='black', label='context x')\n",
        "plt.scatter(data0.index, data0['k'], label='arm 0')\n",
        "plt.scatter(data1.index, data1['k'], label='arm 1')\n",
        "plt.xlabel('Iteration')\n",
        "plt.ylabel('x')\n",
        "plt.legend();"
      ],
      "execution_count": 296,
      "outputs": [
        {
          "output_type": "display_data",
          "data": {
            "image/png": "[encoded data removed]",
            "text/plain": [
              "<Figure size 432x288 with 1 Axes>"
            ]
          },
          "metadata": {
            "tags": [],
            "needs_background": "light"
          }
        }
      ]
    }
  ]
}