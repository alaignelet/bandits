{
  "nbformat": 4,
  "nbformat_minor": 0,
  "metadata": {
    "colab": {
      "name": "MAB_git.ipynb",
      "provenance": [],
      "collapsed_sections": [],
      "toc_visible": true
    },
    "kernelspec": {
      "name": "python3",
      "display_name": "Python 3"
    },
    "widgets": {
      "application/vnd.jupyter.widget-state+json": {
        "6ebed6ce7c98416bb97ba7ea570a7d7c": {
          "model_module": "@jupyter-widgets/controls",
          "model_name": "HBoxModel",
          "state": {
            "_view_name": "HBoxView",
            "_dom_classes": [],
            "_model_name": "HBoxModel",
            "_view_module": "@jupyter-widgets/controls",
            "_model_module_version": "1.5.0",
            "_view_count": null,
            "_view_module_version": "1.5.0",
            "box_style": "",
            "layout": "IPY_MODEL_f7e904005abc4f258a16884004fb10a3",
            "_model_module": "@jupyter-widgets/controls",
            "children": [
              "IPY_MODEL_402dee5db9b245cc913ff94fe9fc5080",
              "IPY_MODEL_40a5334a59354c89bd29e89c1783ed2a"
            ]
          }
        },
        "f7e904005abc4f258a16884004fb10a3": {
          "model_module": "@jupyter-widgets/base",
          "model_name": "LayoutModel",
          "state": {
            "_view_name": "LayoutView",
            "grid_template_rows": null,
            "right": null,
            "justify_content": null,
            "_view_module": "@jupyter-widgets/base",
            "overflow": null,
            "_model_module_version": "1.2.0",
            "_view_count": null,
            "flex_flow": null,
            "width": null,
            "min_width": null,
            "border": null,
            "align_items": null,
            "bottom": null,
            "_model_module": "@jupyter-widgets/base",
            "top": null,
            "grid_column": null,
            "overflow_y": null,
            "overflow_x": null,
            "grid_auto_flow": null,
            "grid_area": null,
            "grid_template_columns": null,
            "flex": null,
            "_model_name": "LayoutModel",
            "justify_items": null,
            "grid_row": null,
            "max_height": null,
            "align_content": null,
            "visibility": null,
            "align_self": null,
            "height": null,
            "min_height": null,
            "padding": null,
            "grid_auto_rows": null,
            "grid_gap": null,
            "max_width": null,
            "order": null,
            "_view_module_version": "1.2.0",
            "grid_template_areas": null,
            "object_position": null,
            "object_fit": null,
            "grid_auto_columns": null,
            "margin": null,
            "display": null,
            "left": null
          }
        },
        "402dee5db9b245cc913ff94fe9fc5080": {
          "model_module": "@jupyter-widgets/controls",
          "model_name": "FloatProgressModel",
          "state": {
            "_view_name": "ProgressView",
            "style": "IPY_MODEL_fde16bfb03fe4a7e83c52625819059db",
            "_dom_classes": [],
            "description": "100%",
            "_model_name": "FloatProgressModel",
            "bar_style": "success",
            "max": 200,
            "_view_module": "@jupyter-widgets/controls",
            "_model_module_version": "1.5.0",
            "value": 200,
            "_view_count": null,
            "_view_module_version": "1.5.0",
            "orientation": "horizontal",
            "min": 0,
            "description_tooltip": null,
            "_model_module": "@jupyter-widgets/controls",
            "layout": "IPY_MODEL_cff9c015bfdf4952bc3dbcbbb3820f65"
          }
        },
        "40a5334a59354c89bd29e89c1783ed2a": {
          "model_module": "@jupyter-widgets/controls",
          "model_name": "HTMLModel",
          "state": {
            "_view_name": "HTMLView",
            "style": "IPY_MODEL_eab0e77181f9442c95c2c9ae41884740",
            "_dom_classes": [],
            "description": "",
            "_model_name": "HTMLModel",
            "placeholder": "​",
            "_view_module": "@jupyter-widgets/controls",
            "_model_module_version": "1.5.0",
            "value": " 200/200 [00:36&lt;00:00,  5.41it/s]",
            "_view_count": null,
            "_view_module_version": "1.5.0",
            "description_tooltip": null,
            "_model_module": "@jupyter-widgets/controls",
            "layout": "IPY_MODEL_1c04ef9c5000472b99763700428f0fb4"
          }
        },
        "fde16bfb03fe4a7e83c52625819059db": {
          "model_module": "@jupyter-widgets/controls",
          "model_name": "ProgressStyleModel",
          "state": {
            "_view_name": "StyleView",
            "_model_name": "ProgressStyleModel",
            "description_width": "initial",
            "_view_module": "@jupyter-widgets/base",
            "_model_module_version": "1.5.0",
            "_view_count": null,
            "_view_module_version": "1.2.0",
            "bar_color": null,
            "_model_module": "@jupyter-widgets/controls"
          }
        },
        "cff9c015bfdf4952bc3dbcbbb3820f65": {
          "model_module": "@jupyter-widgets/base",
          "model_name": "LayoutModel",
          "state": {
            "_view_name": "LayoutView",
            "grid_template_rows": null,
            "right": null,
            "justify_content": null,
            "_view_module": "@jupyter-widgets/base",
            "overflow": null,
            "_model_module_version": "1.2.0",
            "_view_count": null,
            "flex_flow": null,
            "width": null,
            "min_width": null,
            "border": null,
            "align_items": null,
            "bottom": null,
            "_model_module": "@jupyter-widgets/base",
            "top": null,
            "grid_column": null,
            "overflow_y": null,
            "overflow_x": null,
            "grid_auto_flow": null,
            "grid_area": null,
            "grid_template_columns": null,
            "flex": null,
            "_model_name": "LayoutModel",
            "justify_items": null,
            "grid_row": null,
            "max_height": null,
            "align_content": null,
            "visibility": null,
            "align_self": null,
            "height": null,
            "min_height": null,
            "padding": null,
            "grid_auto_rows": null,
            "grid_gap": null,
            "max_width": null,
            "order": null,
            "_view_module_version": "1.2.0",
            "grid_template_areas": null,
            "object_position": null,
            "object_fit": null,
            "grid_auto_columns": null,
            "margin": null,
            "display": null,
            "left": null
          }
        },
        "eab0e77181f9442c95c2c9ae41884740": {
          "model_module": "@jupyter-widgets/controls",
          "model_name": "DescriptionStyleModel",
          "state": {
            "_view_name": "StyleView",
            "_model_name": "DescriptionStyleModel",
            "description_width": "",
            "_view_module": "@jupyter-widgets/base",
            "_model_module_version": "1.5.0",
            "_view_count": null,
            "_view_module_version": "1.2.0",
            "_model_module": "@jupyter-widgets/controls"
          }
        },
        "1c04ef9c5000472b99763700428f0fb4": {
          "model_module": "@jupyter-widgets/base",
          "model_name": "LayoutModel",
          "state": {
            "_view_name": "LayoutView",
            "grid_template_rows": null,
            "right": null,
            "justify_content": null,
            "_view_module": "@jupyter-widgets/base",
            "overflow": null,
            "_model_module_version": "1.2.0",
            "_view_count": null,
            "flex_flow": null,
            "width": null,
            "min_width": null,
            "border": null,
            "align_items": null,
            "bottom": null,
            "_model_module": "@jupyter-widgets/base",
            "top": null,
            "grid_column": null,
            "overflow_y": null,
            "overflow_x": null,
            "grid_auto_flow": null,
            "grid_area": null,
            "grid_template_columns": null,
            "flex": null,
            "_model_name": "LayoutModel",
            "justify_items": null,
            "grid_row": null,
            "max_height": null,
            "align_content": null,
            "visibility": null,
            "align_self": null,
            "height": null,
            "min_height": null,
            "padding": null,
            "grid_auto_rows": null,
            "grid_gap": null,
            "max_width": null,
            "order": null,
            "_view_module_version": "1.2.0",
            "grid_template_areas": null,
            "object_position": null,
            "object_fit": null,
            "grid_auto_columns": null,
            "margin": null,
            "display": null,
            "left": null
          }
        },
        "746b0a948acc4737b31c976c8dfb430a": {
          "model_module": "@jupyter-widgets/controls",
          "model_name": "HBoxModel",
          "state": {
            "_view_name": "HBoxView",
            "_dom_classes": [],
            "_model_name": "HBoxModel",
            "_view_module": "@jupyter-widgets/controls",
            "_model_module_version": "1.5.0",
            "_view_count": null,
            "_view_module_version": "1.5.0",
            "box_style": "",
            "layout": "IPY_MODEL_3fde48a510d241d79a5d62571cf71e54",
            "_model_module": "@jupyter-widgets/controls",
            "children": [
              "IPY_MODEL_07b6d2ceb447457598f41f8157e642bd",
              "IPY_MODEL_167197a8545f43f4abb16dd17db5c37d"
            ]
          }
        },
        "3fde48a510d241d79a5d62571cf71e54": {
          "model_module": "@jupyter-widgets/base",
          "model_name": "LayoutModel",
          "state": {
            "_view_name": "LayoutView",
            "grid_template_rows": null,
            "right": null,
            "justify_content": null,
            "_view_module": "@jupyter-widgets/base",
            "overflow": null,
            "_model_module_version": "1.2.0",
            "_view_count": null,
            "flex_flow": null,
            "width": null,
            "min_width": null,
            "border": null,
            "align_items": null,
            "bottom": null,
            "_model_module": "@jupyter-widgets/base",
            "top": null,
            "grid_column": null,
            "overflow_y": null,
            "overflow_x": null,
            "grid_auto_flow": null,
            "grid_area": null,
            "grid_template_columns": null,
            "flex": null,
            "_model_name": "LayoutModel",
            "justify_items": null,
            "grid_row": null,
            "max_height": null,
            "align_content": null,
            "visibility": null,
            "align_self": null,
            "height": null,
            "min_height": null,
            "padding": null,
            "grid_auto_rows": null,
            "grid_gap": null,
            "max_width": null,
            "order": null,
            "_view_module_version": "1.2.0",
            "grid_template_areas": null,
            "object_position": null,
            "object_fit": null,
            "grid_auto_columns": null,
            "margin": null,
            "display": null,
            "left": null
          }
        },
        "07b6d2ceb447457598f41f8157e642bd": {
          "model_module": "@jupyter-widgets/controls",
          "model_name": "FloatProgressModel",
          "state": {
            "_view_name": "ProgressView",
            "style": "IPY_MODEL_47dcb52c2f3e4f06aa3ce4e72119fe96",
            "_dom_classes": [],
            "description": "100%",
            "_model_name": "FloatProgressModel",
            "bar_style": "success",
            "max": 200,
            "_view_module": "@jupyter-widgets/controls",
            "_model_module_version": "1.5.0",
            "value": 200,
            "_view_count": null,
            "_view_module_version": "1.5.0",
            "orientation": "horizontal",
            "min": 0,
            "description_tooltip": null,
            "_model_module": "@jupyter-widgets/controls",
            "layout": "IPY_MODEL_8bd12b5f4c2a4e0285bab38a5523084d"
          }
        },
        "167197a8545f43f4abb16dd17db5c37d": {
          "model_module": "@jupyter-widgets/controls",
          "model_name": "HTMLModel",
          "state": {
            "_view_name": "HTMLView",
            "style": "IPY_MODEL_cbcc2e65f4e343b3aac195827ebb7954",
            "_dom_classes": [],
            "description": "",
            "_model_name": "HTMLModel",
            "placeholder": "​",
            "_view_module": "@jupyter-widgets/controls",
            "_model_module_version": "1.5.0",
            "value": " 200/200 [00:47&lt;00:00,  4.22it/s]",
            "_view_count": null,
            "_view_module_version": "1.5.0",
            "description_tooltip": null,
            "_model_module": "@jupyter-widgets/controls",
            "layout": "IPY_MODEL_59b1046af60c4bcb9183e212279ed199"
          }
        },
        "47dcb52c2f3e4f06aa3ce4e72119fe96": {
          "model_module": "@jupyter-widgets/controls",
          "model_name": "ProgressStyleModel",
          "state": {
            "_view_name": "StyleView",
            "_model_name": "ProgressStyleModel",
            "description_width": "initial",
            "_view_module": "@jupyter-widgets/base",
            "_model_module_version": "1.5.0",
            "_view_count": null,
            "_view_module_version": "1.2.0",
            "bar_color": null,
            "_model_module": "@jupyter-widgets/controls"
          }
        },
        "8bd12b5f4c2a4e0285bab38a5523084d": {
          "model_module": "@jupyter-widgets/base",
          "model_name": "LayoutModel",
          "state": {
            "_view_name": "LayoutView",
            "grid_template_rows": null,
            "right": null,
            "justify_content": null,
            "_view_module": "@jupyter-widgets/base",
            "overflow": null,
            "_model_module_version": "1.2.0",
            "_view_count": null,
            "flex_flow": null,
            "width": null,
            "min_width": null,
            "border": null,
            "align_items": null,
            "bottom": null,
            "_model_module": "@jupyter-widgets/base",
            "top": null,
            "grid_column": null,
            "overflow_y": null,
            "overflow_x": null,
            "grid_auto_flow": null,
            "grid_area": null,
            "grid_template_columns": null,
            "flex": null,
            "_model_name": "LayoutModel",
            "justify_items": null,
            "grid_row": null,
            "max_height": null,
            "align_content": null,
            "visibility": null,
            "align_self": null,
            "height": null,
            "min_height": null,
            "padding": null,
            "grid_auto_rows": null,
            "grid_gap": null,
            "max_width": null,
            "order": null,
            "_view_module_version": "1.2.0",
            "grid_template_areas": null,
            "object_position": null,
            "object_fit": null,
            "grid_auto_columns": null,
            "margin": null,
            "display": null,
            "left": null
          }
        },
        "cbcc2e65f4e343b3aac195827ebb7954": {
          "model_module": "@jupyter-widgets/controls",
          "model_name": "DescriptionStyleModel",
          "state": {
            "_view_name": "StyleView",
            "_model_name": "DescriptionStyleModel",
            "description_width": "",
            "_view_module": "@jupyter-widgets/base",
            "_model_module_version": "1.5.0",
            "_view_count": null,
            "_view_module_version": "1.2.0",
            "_model_module": "@jupyter-widgets/controls"
          }
        },
        "59b1046af60c4bcb9183e212279ed199": {
          "model_module": "@jupyter-widgets/base",
          "model_name": "LayoutModel",
          "state": {
            "_view_name": "LayoutView",
            "grid_template_rows": null,
            "right": null,
            "justify_content": null,
            "_view_module": "@jupyter-widgets/base",
            "overflow": null,
            "_model_module_version": "1.2.0",
            "_view_count": null,
            "flex_flow": null,
            "width": null,
            "min_width": null,
            "border": null,
            "align_items": null,
            "bottom": null,
            "_model_module": "@jupyter-widgets/base",
            "top": null,
            "grid_column": null,
            "overflow_y": null,
            "overflow_x": null,
            "grid_auto_flow": null,
            "grid_area": null,
            "grid_template_columns": null,
            "flex": null,
            "_model_name": "LayoutModel",
            "justify_items": null,
            "grid_row": null,
            "max_height": null,
            "align_content": null,
            "visibility": null,
            "align_self": null,
            "height": null,
            "min_height": null,
            "padding": null,
            "grid_auto_rows": null,
            "grid_gap": null,
            "max_width": null,
            "order": null,
            "_view_module_version": "1.2.0",
            "grid_template_areas": null,
            "object_position": null,
            "object_fit": null,
            "grid_auto_columns": null,
            "margin": null,
            "display": null,
            "left": null
          }
        }
      }
    }
  },
  "cells": [
    {
      "cell_type": "code",
      "metadata": {
        "id": "8qjNn_OQKJo3",
        "colab_type": "code",
        "colab": {}
      },
      "source": [
        "import numpy as np\n",
        "import matplotlib.pyplot as plt\n",
        "from tqdm.notebook import tqdm\n",
        "import scipy.stats as stats\n",
        "import pandas as pd\n",
        "from scipy.special import expit\n",
        "from sklearn.linear_model import LogisticRegression\n",
        "from abc import ABC, abstractmethod "
      ],
      "execution_count": 0,
      "outputs": []
    },
    {
      "cell_type": "markdown",
      "metadata": {
        "id": "fjTs9tALW-bS",
        "colab_type": "text"
      },
      "source": [
        "# Multi armed bandit algorithm with normal distributions\n",
        "\n",
        "Let k arms with rewards following a Gaussian distribution $\\mathcal{N}(\\mu_i, 1)$. For simplicity the means $\\mu_i$ are generated from a uniform distribution $\\mathcal{U}[0, 1]$.\n",
        "\n",
        "Two policies are implemented:\n",
        "\n",
        "\n",
        "*   $\\epsilon$-greedy,\n",
        "*   Upper Confidence Bound.\n",
        "\n"
      ]
    },
    {
      "cell_type": "markdown",
      "metadata": {
        "id": "-zJa2hBKzLss",
        "colab_type": "text"
      },
      "source": [
        "## Bandits and policies"
      ]
    },
    {
      "cell_type": "code",
      "metadata": {
        "id": "F-Ba_J5Wpk3y",
        "colab_type": "code",
        "colab": {}
      },
      "source": [
        "class Bandit:\n",
        "  def __init__(self, k):\n",
        "    self.k = k\n",
        "    self.arm_mean = np.random.normal(0, 1, k)\n",
        "    self.arm_distribution = [stats.norm(loc=mean, scale=1) for mean in self.arm_mean]\n",
        "    self.trials = np.zeros(k)\n",
        "    self.estimated_mean = np.zeros(k)\n",
        "\n",
        "  def get_reward(self, action):\n",
        "    reward = self.arm_distribution[action].rvs()\n",
        "    return reward\n",
        "\n",
        "  def update_estimation(self, action, reward):\n",
        "    self.trials[action] += 1\n",
        "    alpha = 1./self.trials[action]\n",
        "    self.estimated_mean[action] += alpha * (reward - self.estimated_mean[action])"
      ],
      "execution_count": 0,
      "outputs": []
    },
    {
      "cell_type": "code",
      "metadata": {
        "id": "hEE6PUSJqPBJ",
        "colab_type": "code",
        "colab": {}
      },
      "source": [
        "class GreedyPolicy(Bandit):\n",
        "  def __init__(self, k, epsilon):\n",
        "    Bandit.__init__(self, k)\n",
        "    self.epsilon = epsilon\n",
        "\n",
        "  def choose_action(self):\n",
        "    rand_num = np.random.random()\n",
        "    if self.epsilon > rand_num:\n",
        "        action = np.random.randint(self.k)\n",
        "    else:\n",
        "        action = np.argmax(self.estimated_mean)\n",
        "    return action   "
      ],
      "execution_count": 0,
      "outputs": []
    },
    {
      "cell_type": "code",
      "metadata": {
        "id": "kL76_Jl5tfMQ",
        "colab_type": "code",
        "colab": {}
      },
      "source": [
        "class UBCPolicy(Bandit):\n",
        "  def __init__(self, k):\n",
        "    Bandit.__init__(self, k)\n",
        "    self.radius = np.zeros(k)\n",
        "\n",
        "  def choose_action(self):\n",
        "    radius = np.sqrt(2 * np.log(1 + self.trials.sum()) / (1 + self.trials))\n",
        "    self.radius = radius\n",
        "    action = np.argmax(self.estimated_mean + radius)\n",
        "    return action  "
      ],
      "execution_count": 0,
      "outputs": []
    },
    {
      "cell_type": "markdown",
      "metadata": {
        "id": "oaEU0lH8zPzG",
        "colab_type": "text"
      },
      "source": [
        "## Example of a 10-arm bandit"
      ]
    },
    {
      "cell_type": "code",
      "metadata": {
        "id": "ytAZKSVfrZqB",
        "colab_type": "code",
        "colab": {}
      },
      "source": [
        "def run(n_iter, k, epsilon):\n",
        "  if epsilon != None:\n",
        "    bandit = GreedyPolicy(k, epsilon)\n",
        "  else:\n",
        "    bandit = UBCPolicy(k)\n",
        "\n",
        "  max_mean = max(bandit.arm_mean)\n",
        "  rewards = np.zeros(n_iter)\n",
        "  regrets = np.zeros(n_iter+1)\n",
        "  \n",
        "  for it in range(n_iter):\n",
        "    action = bandit.choose_action()\n",
        "    reward = bandit.get_reward(action)\n",
        "    bandit.update_estimation(action, reward)\n",
        "    regrets[it+1] = regrets[it] + max_mean - reward\n",
        "    rewards[it] = reward\n",
        "\n",
        "  return regrets[1:], rewards  "
      ],
      "execution_count": 0,
      "outputs": []
    },
    {
      "cell_type": "code",
      "metadata": {
        "id": "gIxNbW1FWiZb",
        "colab_type": "code",
        "colab": {}
      },
      "source": [
        "n_iter = 1000\n",
        "k = 10\n",
        "n_exp = 200"
      ],
      "execution_count": 0,
      "outputs": []
    },
    {
      "cell_type": "code",
      "metadata": {
        "id": "CCk7NjUsW2q0",
        "colab_type": "code",
        "colab": {}
      },
      "source": [
        "def exp(n_exp, n_iter, k , epsilon=None):\n",
        "  avg_regrets = np.zeros(n_iter)\n",
        "  avg_rewards = np.zeros(n_iter)\n",
        "\n",
        "  for i in tqdm(range(n_exp)):\n",
        "    avg_regrets += run(n_iter, k, epsilon)[0]\n",
        "    avg_rewards += run(n_iter, k, epsilon)[1]\n",
        "  \n",
        "  avg_regrets /= n_exp\n",
        "  avg_rewards /= n_exp\n",
        "  return avg_regrets, avg_rewards"
      ],
      "execution_count": 0,
      "outputs": []
    },
    {
      "cell_type": "code",
      "metadata": {
        "id": "8YOLGYJvuck9",
        "colab_type": "code",
        "outputId": "4c4e2f6a-2723-44c0-f3e6-5061dc3ffbac",
        "colab": {
          "base_uri": "https://localhost:8080/",
          "height": 117,
          "referenced_widgets": [
            "6ebed6ce7c98416bb97ba7ea570a7d7c",
            "f7e904005abc4f258a16884004fb10a3",
            "402dee5db9b245cc913ff94fe9fc5080",
            "40a5334a59354c89bd29e89c1783ed2a",
            "fde16bfb03fe4a7e83c52625819059db",
            "cff9c015bfdf4952bc3dbcbbb3820f65",
            "eab0e77181f9442c95c2c9ae41884740",
            "1c04ef9c5000472b99763700428f0fb4",
            "746b0a948acc4737b31c976c8dfb430a",
            "3fde48a510d241d79a5d62571cf71e54",
            "07b6d2ceb447457598f41f8157e642bd",
            "167197a8545f43f4abb16dd17db5c37d",
            "47dcb52c2f3e4f06aa3ce4e72119fe96",
            "8bd12b5f4c2a4e0285bab38a5523084d",
            "cbcc2e65f4e343b3aac195827ebb7954",
            "59b1046af60c4bcb9183e212279ed199"
          ]
        }
      },
      "source": [
        "reg_001, rew_001 = exp(n_exp, n_iter, k, 0.01)\n",
        "reg_ucb, rew_ucb = exp(n_exp, n_iter, k)"
      ],
      "execution_count": 54,
      "outputs": [
        {
          "output_type": "display_data",
          "data": {
            "application/vnd.jupyter.widget-view+json": {
              "model_id": "6ebed6ce7c98416bb97ba7ea570a7d7c",
              "version_minor": 0,
              "version_major": 2
            },
            "text/plain": [
              "HBox(children=(FloatProgress(value=0.0, max=200.0), HTML(value='')))"
            ]
          },
          "metadata": {
            "tags": []
          }
        },
        {
          "output_type": "stream",
          "text": [
            "\n"
          ],
          "name": "stdout"
        },
        {
          "output_type": "display_data",
          "data": {
            "application/vnd.jupyter.widget-view+json": {
              "model_id": "746b0a948acc4737b31c976c8dfb430a",
              "version_minor": 0,
              "version_major": 2
            },
            "text/plain": [
              "HBox(children=(FloatProgress(value=0.0, max=200.0), HTML(value='')))"
            ]
          },
          "metadata": {
            "tags": []
          }
        },
        {
          "output_type": "stream",
          "text": [
            "\n"
          ],
          "name": "stdout"
        }
      ]
    },
    {
      "cell_type": "code",
      "metadata": {
        "id": "xMyIzeW86elR",
        "colab_type": "code",
        "outputId": "4c4488cf-47de-48d7-8e62-7a9d3e421d63",
        "colab": {
          "base_uri": "https://localhost:8080/",
          "height": 279
        }
      },
      "source": [
        "plt.plot(rew_001, label='$\\epsilon$-greedy')\n",
        "plt.plot(rew_ucb, label='UCB')\n",
        "plt.xlabel('Iteration')\n",
        "plt.ylabel('Reward')\n",
        "plt.legend();"
      ],
      "execution_count": 57,
      "outputs": [
        {
          "output_type": "display_data",
          "data": {
            "image/png": "[encoded data removed]",
            "text/plain": [
              "<Figure size 432x288 with 1 Axes>"
            ]
          },
          "metadata": {
            "tags": [],
            "needs_background": "light"
          }
        }
      ]
    },
    {
      "cell_type": "code",
      "metadata": {
        "id": "ro7PnZiyQ6Hz",
        "colab_type": "code",
        "outputId": "556a5ca9-c50b-495a-f6d9-a05d30f84845",
        "colab": {
          "base_uri": "https://localhost:8080/",
          "height": 282
        }
      },
      "source": [
        "plt.plot(reg_001, label='$\\epsilon$-greedy')\n",
        "plt.plot(reg_ucb, label='UCB')\n",
        "plt.xlabel('Iteration')\n",
        "plt.ylabel('Regret')\n",
        "plt.legend();"
      ],
      "execution_count": 58,
      "outputs": [
        {
          "output_type": "display_data",
          "data": {
            "image/png": "[encoded data removed]",
            "text/plain": [
              "<Figure size 432x288 with 1 Axes>"
            ]
          },
          "metadata": {
            "tags": [],
            "needs_background": "light"
          }
        }
      ]
    },
    {
      "cell_type": "markdown",
      "metadata": {
        "id": "uD9dDL5FOJ6C",
        "colab_type": "text"
      },
      "source": [
        "# Bernoulli Bandit\n",
        "\n",
        "In this setup, the likelihood $p(x | \\theta)$ follows a Bernoulli. A natural choice for the prior is the Beta distribution since it is a conjugate prior to the Bernoulli distribution. In this context the posterior is also a Beta distribution that evolves according to: if $x$ is a win, the posterior becomes $Beta(\\alpha +1, \\beta)$, and if it is a fail, it becomes $Beta(\\alpha, \\beta +1)$.\n"
      ]
    },
    {
      "cell_type": "code",
      "metadata": {
        "id": "4P570PYWXyyB",
        "colab_type": "code",
        "colab": {}
      },
      "source": [
        "class Bandit:\n",
        "  def __init__(self, k):\n",
        "    np.random.seed(0)\n",
        "    self.arm_values = np.sort(np.random.rand(k))\n",
        "    self.trials = np.zeros(k)\n",
        "    self.wins = np.zeros(k)\n",
        "    self.priors = [stats.beta(a=1, b=1) for i in range(k)]\n",
        "\n",
        "  def choose_arm(self):\n",
        "    theta_samples = np.array([distrib.rvs(1).item() for distrib in self.priors])\n",
        "    return np.argmax(theta_samples)\n",
        "\n",
        "  def update_distrib(self, action):\n",
        "    self.trials[action] += 1\n",
        "    self.wins[action] += int(np.random.rand() < self.arm_values[action])\n",
        "    self.priors = [stats.beta(a=1+w, b=1+t-w) for t, w in zip(self.trials, self.wins)]\n",
        "\n",
        "  def plot(self):\n",
        "    fig, ax = plt.subplots()\n",
        "    x = np.linspace(0.001, 0.999, 100)\n",
        "    for prior in self.priors:\n",
        "        y = prior.pdf(x)\n",
        "        ax.plot(x, y)\n",
        "        ax.fill_between(x, y, 0, alpha=0.2)\n",
        "    ax.set_xlabel('x')\n",
        "    ax.set_ylabel('Prior')"
      ],
      "execution_count": 0,
      "outputs": []
    },
    {
      "cell_type": "code",
      "metadata": {
        "id": "uPZDbd-JbsT5",
        "colab_type": "code",
        "outputId": "1402057d-99dc-4a6b-f539-ac0755ce2c77",
        "colab": {
          "base_uri": "https://localhost:8080/",
          "height": 279
        }
      },
      "source": [
        "bandit = Bandit(3)\n",
        "n = 50\n",
        "\n",
        "for step in range(n):\n",
        "  action = bandit.choose_arm()\n",
        "  bandit.update_distrib(action)\n",
        "\n",
        "bandit.plot()"
      ],
      "execution_count": 63,
      "outputs": [
        {
          "output_type": "display_data",
          "data": {
            "image/png": "[encoded data removed]",
            "text/plain": [
              "<Figure size 432x288 with 1 Axes>"
            ]
          },
          "metadata": {
            "tags": [],
            "needs_background": "light"
          }
        }
      ]
    },
    {
      "cell_type": "markdown",
      "metadata": {
        "id": "1AYEK1ErPGkw",
        "colab_type": "text"
      },
      "source": [
        "# Contextual bandits\n",
        "\n",
        "In this setup, the context influences the probabilities of the Bernoulli law of the arms. For convenience, we chose to model this effect by defining then as the result of a logistic regression over the context, where the parameters are unkown for the learner.\n",
        "\\begin{align*}\n",
        "  p_k(x) = \\frac{1}{1 + e^{- a_k x - \\epsilon}}\n",
        "\\end{align*}\n",
        "\n",
        "with $\\epsilon \\sim \\mathcal{N}(0, \\sigma^2)$.\n",
        "\n",
        "Again, for convenience, the context is only model by a unique variable $x$, and the logistic regression only has one parameter."
      ]
    },
    {
      "cell_type": "code",
      "metadata": {
        "id": "4RGUTkGCRrLD",
        "colab_type": "code",
        "colab": {}
      },
      "source": [
        "class Bandit:\n",
        "  def __init__(self, k, epsilon=0.1):\n",
        "    np.random.seed(1)\n",
        "    self.arm_values = stats.lognorm.rvs(s=1, size=k)\n",
        "    self.history = []\n",
        "    self.k = k\n",
        "    self.epsilon = epsilon\n",
        "\n",
        "  def generate_context(self):\n",
        "    n = len(self.history)\n",
        "    return np.sin(0.1 * n)\n",
        "\n",
        "  def choose_arm(self, x):\n",
        "    prediction = np.zeros(self.k)\n",
        "    df = pd.DataFrame(self.history, columns=['x', 'k', 'reward'])\n",
        "\n",
        "    if df.groupby(['k', 'reward']).size().shape[0] == 2 * self.k:\n",
        "      for i in range(self.k):\n",
        "        data = df[df['k'] == i]\n",
        "        X = data['x']\n",
        "        y = data['reward']\n",
        "        lr = LogisticRegression(fit_intercept=False).fit(X.values.reshape(-1, 1), y)\n",
        "        prediction[i] = lr.predict_proba(np.array(x).reshape(-1, 1))[0][1]\n",
        "\n",
        "      best_bandit = np.argmax(prediction)\n",
        "    \n",
        "    else:\n",
        "      best_bandit = np.random.randint(self.k)\n",
        "\n",
        "    rand_num = np.random.random()\n",
        "    \n",
        "    if self.epsilon > rand_num:\n",
        "        return np.random.randint(self.k)\n",
        "    else:\n",
        "        return best_bandit\n",
        "\n",
        "  def get_reward(self, x, action):\n",
        "    noise = stats.norm.rvs()\n",
        "    pk = expit(self.arm_values[action] * x + noise)\n",
        "    rk = stats.bernoulli.rvs(pk)\n",
        "    return rk\n",
        "\n",
        "  def update_values(self, x, action, reward):\n",
        "    update = {}\n",
        "    update['x'] = x\n",
        "    update['k'] = action\n",
        "    update['reward'] = reward\n",
        "    self.history.append(update)\n",
        "\n",
        "  def plot(self):\n",
        "    x = np.linspace(-5, 5, 200)\n",
        "    for i, value in enumerate(self.arm_values):\n",
        "      plt.plot(x, expit(value * x), label='arm ' + str(i))\n",
        "    plt.xlabel('x')\n",
        "    plt.ylabel('Probability')\n",
        "    plt.legend()"
      ],
      "execution_count": 0,
      "outputs": []
    },
    {
      "cell_type": "code",
      "metadata": {
        "id": "0MXmLFiGWRR7",
        "colab_type": "code",
        "colab": {}
      },
      "source": [
        "cmab = Bandit(2)"
      ],
      "execution_count": 0,
      "outputs": []
    },
    {
      "cell_type": "code",
      "metadata": {
        "id": "cvlLV6sDZdfZ",
        "colab_type": "code",
        "outputId": "3acbd00f-b0d9-4e0c-b661-8ae98577b336",
        "colab": {
          "base_uri": "https://localhost:8080/",
          "height": 279
        }
      },
      "source": [
        "cmab.plot()"
      ],
      "execution_count": 66,
      "outputs": [
        {
          "output_type": "display_data",
          "data": {
            "image/png": "[encoded data removed]",
            "text/plain": [
              "<Figure size 432x288 with 1 Axes>"
            ]
          },
          "metadata": {
            "tags": [],
            "needs_background": "light"
          }
        }
      ]
    },
    {
      "cell_type": "code",
      "metadata": {
        "id": "79Rh2vAWwwLe",
        "colab_type": "code",
        "colab": {}
      },
      "source": [
        "n = 100\n",
        "\n",
        "for step in range(n):\n",
        "  x = cmab.generate_context()\n",
        "  action = cmab.choose_arm(x)\n",
        "  reward = cmab.get_reward(x, action)\n",
        "  cmab.update_values(x, action, reward)"
      ],
      "execution_count": 0,
      "outputs": []
    },
    {
      "cell_type": "code",
      "metadata": {
        "id": "D0ih6XqqwwIq",
        "colab_type": "code",
        "colab": {}
      },
      "source": [
        "data = pd.DataFrame(cmab.history)\n",
        "data0 = data[data['k'] == 0]\n",
        "data1 = data[data['k'] == 1]"
      ],
      "execution_count": 0,
      "outputs": []
    },
    {
      "cell_type": "code",
      "metadata": {
        "id": "DUaQuJn1Zo4r",
        "colab_type": "code",
        "outputId": "d9c46fe7-f60f-439f-ae00-98742fc6fe6c",
        "colab": {
          "base_uri": "https://localhost:8080/",
          "height": 279
        }
      },
      "source": [
        "plt.plot(data['x'], color='black', label='context x')\n",
        "plt.scatter(data0.index, data0['k'], label='arm 0')\n",
        "plt.scatter(data1.index, data1['k'], label='arm 1')\n",
        "plt.xlabel('Iteration')\n",
        "plt.ylabel('x')\n",
        "plt.legend();"
      ],
      "execution_count": 70,
      "outputs": [
        {
          "output_type": "display_data",
          "data": {
            "image/png": "[encoded data removed]",
            "text/plain": [
              "<Figure size 432x288 with 1 Axes>"
            ]
          },
          "metadata": {
            "tags": [],
            "needs_background": "light"
          }
        }
      ]
    },
    {
      "cell_type": "code",
      "metadata": {
        "id": "JdOioZRQJJrT",
        "colab_type": "code",
        "colab": {}
      },
      "source": [
        ""
      ],
      "execution_count": 0,
      "outputs": []
    }
  ]
}